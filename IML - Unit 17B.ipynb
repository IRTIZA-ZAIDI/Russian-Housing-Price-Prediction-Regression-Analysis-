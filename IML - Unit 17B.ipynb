{
 "cells": [
  {
   "cell_type": "code",
   "execution_count": 79,
   "metadata": {},
   "outputs": [
    {
     "name": "stdout",
     "output_type": "stream",
     "text": [
      "/mnt/d/Sajjad/08-2023/Python Code/Introduction to Machine Learning\n",
      "/mnt/d/Sajjad/08-2023/Python Code/Introduction to Machine Learning\n"
     ]
    }
   ],
   "source": [
    "import os\n",
    "print(os.getcwd())\n",
    "#change working directory to the location of the data file\n",
    "os.chdir('/mnt/d/Sajjad/08-2023/Python Code/Introduction to Machine Learning/')\n",
    "print(os.getcwd())\n",
    "import pandas as pd"
   ]
  },
  {
   "cell_type": "code",
   "execution_count": 80,
   "metadata": {},
   "outputs": [
    {
     "name": "stdout",
     "output_type": "stream",
     "text": [
      "(506, 14)\n",
      "Index(['s_no', 'crim', 'zn', 'indus', 'chas', 'nox', 'rm', 'age', 'dis', 'rad',\n",
      "       'tax', 'ptratio', 'lstat', 'medv'],\n",
      "      dtype='object')\n"
     ]
    }
   ],
   "source": [
    "df = pd.read_csv(\"ISL_DataSets/Boston.csv\")\n",
    "print(df.shape)\n",
    "print(df.columns)"
   ]
  },
  {
   "cell_type": "code",
   "execution_count": 81,
   "metadata": {},
   "outputs": [
    {
     "name": "stdout",
     "output_type": "stream",
     "text": [
      "(506, 12)\n"
     ]
    }
   ],
   "source": [
    "X = df.drop(columns=['s_no','medv'])\n",
    "print(X.shape)\n",
    "y = df[['medv']]"
   ]
  },
  {
   "cell_type": "code",
   "execution_count": 82,
   "metadata": {},
   "outputs": [],
   "source": [
    "from sklearn.feature_selection import SequentialFeatureSelector\n",
    "from sklearn.linear_model import LinearRegression"
   ]
  },
  {
   "cell_type": "code",
   "execution_count": 83,
   "metadata": {},
   "outputs": [
    {
     "name": "stdout",
     "output_type": "stream",
     "text": [
      "['crim' 'chas' 'rm' 'ptratio' 'lstat']\n"
     ]
    }
   ],
   "source": [
    "ols_reg = LinearRegression()\n",
    "sfs = SequentialFeatureSelector(ols_reg, direction='forward',n_features_to_select=5)\n",
    "sfs.fit(X, y)\n",
    "print(sfs.get_feature_names_out())"
   ]
  },
  {
   "cell_type": "code",
   "execution_count": 84,
   "metadata": {},
   "outputs": [
    {
     "name": "stdout",
     "output_type": "stream",
     "text": [
      "['zn' 'nox' 'dis' 'ptratio' 'lstat']\n"
     ]
    }
   ],
   "source": [
    "ols_reg = LinearRegression()\n",
    "sfs = SequentialFeatureSelector(ols_reg, direction='backward',n_features_to_select=5)\n",
    "sfs.fit(X, y)\n",
    "print(sfs.get_feature_names_out())"
   ]
  },
  {
   "cell_type": "code",
   "execution_count": 85,
   "metadata": {},
   "outputs": [],
   "source": [
    "from sklearn.preprocessing import PolynomialFeatures"
   ]
  },
  {
   "cell_type": "markdown",
   "metadata": {},
   "source": [
    "12 variables\n",
    "A....L\n",
    "A2, B2, .... L2\n",
    "66 + 24 = 90 + 1 = 91"
   ]
  },
  {
   "cell_type": "code",
   "execution_count": 86,
   "metadata": {},
   "outputs": [
    {
     "name": "stdout",
     "output_type": "stream",
     "text": [
      "(506, 91)\n",
      "['1' 'crim' 'zn' 'indus' 'chas' 'nox' 'rm' 'age' 'dis' 'rad' 'tax'\n",
      " 'ptratio' 'lstat' 'crim^2' 'crim zn' 'crim indus' 'crim chas' 'crim nox'\n",
      " 'crim rm' 'crim age' 'crim dis' 'crim rad' 'crim tax' 'crim ptratio'\n",
      " 'crim lstat' 'zn^2' 'zn indus' 'zn chas' 'zn nox' 'zn rm' 'zn age'\n",
      " 'zn dis' 'zn rad' 'zn tax' 'zn ptratio' 'zn lstat' 'indus^2' 'indus chas'\n",
      " 'indus nox' 'indus rm' 'indus age' 'indus dis' 'indus rad' 'indus tax'\n",
      " 'indus ptratio' 'indus lstat' 'chas^2' 'chas nox' 'chas rm' 'chas age'\n",
      " 'chas dis' 'chas rad' 'chas tax' 'chas ptratio' 'chas lstat' 'nox^2'\n",
      " 'nox rm' 'nox age' 'nox dis' 'nox rad' 'nox tax' 'nox ptratio'\n",
      " 'nox lstat' 'rm^2' 'rm age' 'rm dis' 'rm rad' 'rm tax' 'rm ptratio'\n",
      " 'rm lstat' 'age^2' 'age dis' 'age rad' 'age tax' 'age ptratio'\n",
      " 'age lstat' 'dis^2' 'dis rad' 'dis tax' 'dis ptratio' 'dis lstat' 'rad^2'\n",
      " 'rad tax' 'rad ptratio' 'rad lstat' 'tax^2' 'tax ptratio' 'tax lstat'\n",
      " 'ptratio^2' 'ptratio lstat' 'lstat^2']\n",
      "0.9090998670467306\n",
      "[[ 7.41899230e+08 -5.86686378e+00  2.46697708e-01 -3.92819928e+00\n",
      "   3.43704358e+01  1.78334813e+02  2.02240757e+01  3.94889611e-01\n",
      "  -5.81210745e+00  1.69595516e+00  9.70655073e-02  7.91662656e+00\n",
      "   4.13512795e-01 -6.89991694e-04  5.16620193e-01  4.42578463e-01\n",
      "   2.21290510e+00 -1.48825752e+00  3.05331955e-01  9.16648345e-03\n",
      "   7.15469684e-02  3.52571543e-01 -2.67368699e-02  2.28728628e-01\n",
      "   3.11678292e-02  7.29246903e-04 -5.96901170e-03 -4.87553376e-02\n",
      "  -1.07013752e+00  1.95836613e-02 -2.06252775e-04 -3.17969608e-02\n",
      "  -1.18178106e-02  7.18738143e-04  4.07459417e-03 -2.44038915e-03\n",
      "   1.58434152e-02  4.62739217e-02  1.89191594e+00  2.69524543e-01\n",
      "   2.50821843e-03  2.34257300e-02  4.86596727e-02  3.40799902e-04\n",
      "   4.91130419e-02 -3.71317869e-02  3.43704347e+01 -4.22424593e+01\n",
      "  -5.69361071e+00 -2.26560466e-02  9.06033926e-01 -1.04445325e-01\n",
      "   1.90886326e-02 -8.87777230e-01 -1.71622514e-01 -6.91192447e+01\n",
      "  -7.92681952e-01 -4.58600695e-01  8.77186418e+00 -9.70022774e-01\n",
      "   1.32543385e-01 -1.01513227e+01  1.48258135e+00  4.77696421e-01\n",
      "  -3.79374779e-02  7.13614869e-02  1.27134894e-02 -2.41399722e-02\n",
      "  -6.08215660e-01 -1.34642467e-01  3.49371364e-05 -6.72748049e-04\n",
      "   1.36821916e-02 -5.82315704e-04  9.63963242e-03 -6.23960591e-03\n",
      "   4.18033027e-01  1.23063373e-02 -7.10252810e-03 -7.09678844e-02\n",
      "  -2.79769995e-03 -9.19367892e-02  3.24505880e-03 -9.36773687e-02\n",
      "  -3.24120898e-02 -3.57872322e-05  2.27854707e-03 -8.58208871e-04\n",
      "  -1.44801076e-02  3.13732396e-03  1.94274937e-02]]\n",
      "[-7.41899398e+08]\n"
     ]
    }
   ],
   "source": [
    "poly = PolynomialFeatures(2)\n",
    "X = df.drop(columns=['s_no','medv'])\n",
    "y = df[['medv']]\n",
    "X2 = poly.fit_transform(X)\n",
    "print(X2.shape)\n",
    "print(poly.get_feature_names_out())\n",
    "reg = LinearRegression().fit(X2,y)\n",
    "print(reg.score(X2, y))\n",
    "print(reg.coef_)\n",
    "print(reg.intercept_)\n"
   ]
  },
  {
   "cell_type": "code",
   "execution_count": 87,
   "metadata": {},
   "outputs": [
    {
     "name": "stdout",
     "output_type": "stream",
     "text": [
      "(506, 79)\n",
      "['1' 'crim' 'zn' 'indus' 'chas' 'nox' 'rm' 'age' 'dis' 'rad' 'tax'\n",
      " 'ptratio' 'lstat' 'crim zn' 'crim indus' 'crim chas' 'crim nox' 'crim rm'\n",
      " 'crim age' 'crim dis' 'crim rad' 'crim tax' 'crim ptratio' 'crim lstat'\n",
      " 'zn indus' 'zn chas' 'zn nox' 'zn rm' 'zn age' 'zn dis' 'zn rad' 'zn tax'\n",
      " 'zn ptratio' 'zn lstat' 'indus chas' 'indus nox' 'indus rm' 'indus age'\n",
      " 'indus dis' 'indus rad' 'indus tax' 'indus ptratio' 'indus lstat'\n",
      " 'chas nox' 'chas rm' 'chas age' 'chas dis' 'chas rad' 'chas tax'\n",
      " 'chas ptratio' 'chas lstat' 'nox rm' 'nox age' 'nox dis' 'nox rad'\n",
      " 'nox tax' 'nox ptratio' 'nox lstat' 'rm age' 'rm dis' 'rm rad' 'rm tax'\n",
      " 'rm ptratio' 'rm lstat' 'age dis' 'age rad' 'age tax' 'age ptratio'\n",
      " 'age lstat' 'dis rad' 'dis tax' 'dis ptratio' 'dis lstat' 'rad tax'\n",
      " 'rad ptratio' 'rad lstat' 'tax ptratio' 'tax lstat' 'ptratio lstat']\n",
      "0.8993299878960224\n",
      "[[ 5.03779943e+09 -1.89364429e+01 -1.06598249e-01 -2.28455402e+00\n",
      "   5.81995405e+01  3.52748846e+01  2.47203735e+01  7.57739720e-01\n",
      "  -1.65429372e+00  1.23364379e+00  9.73698668e-02  3.06872323e+00\n",
      "   1.20951634e+00  6.20972405e-01  6.50762311e-02  2.10823760e+00\n",
      "  -2.16725232e+00  3.65376645e-01  8.79706801e-03  1.15666034e-01\n",
      "  -4.64916738e-01  2.26125542e-02  5.51321331e-01  3.95575439e-02\n",
      "  -6.59843013e-05 -1.34187811e-01 -2.00506512e-01  6.57176876e-03\n",
      "   1.20348496e-03  1.23789679e-02 -2.15861027e-02  5.15953536e-04\n",
      "   2.57848550e-03 -1.68327692e-02 -2.37277474e-01  2.69976146e+00\n",
      "   2.80419184e-01  5.53584035e-03 -1.19528836e-02 -4.24225996e-02\n",
      "   3.23600133e-04 -5.92099027e-02 -3.44091082e-03 -4.36498358e+01\n",
      "  -5.41613612e+00  3.92948868e-03  4.08488677e-01 -6.18978822e-01\n",
      "   5.67722308e-02 -6.39745771e-01 -2.63174738e-01  3.60460370e+00\n",
      "  -9.17532510e-01  2.14001776e+00  5.69739775e-01 -3.16245037e-02\n",
      "  -3.24838954e+00  1.78715488e+00 -3.92180378e-02  2.62688778e-01\n",
      "  -6.50910585e-02 -2.83911419e-02 -4.64640972e-01 -2.64357341e-01\n",
      "  -2.08647111e-02  1.24986005e-02 -2.50529479e-04 -2.04756855e-03\n",
      "  -4.15292940e-03  9.27008525e-02 -6.47993508e-03 -7.87371647e-02\n",
      "   1.73202347e-01  5.75562683e-04 -7.49543508e-02 -1.13673305e-02\n",
      "   7.08197584e-03 -1.96528063e-03 -1.75437327e-02]]\n",
      "[-5.03779956e+09]\n"
     ]
    }
   ],
   "source": [
    "poly = PolynomialFeatures(2, interaction_only=True)\n",
    "X = df.drop(columns=['s_no','medv'])\n",
    "y = df[['medv']]\n",
    "X2 = poly.fit_transform(X)\n",
    "print(X2.shape)\n",
    "print(poly.get_feature_names_out())\n",
    "reg = LinearRegression().fit(X2,y)\n",
    "print(reg.score(X2, y))\n",
    "print(reg.coef_)\n",
    "print(reg.intercept_)"
   ]
  },
  {
   "cell_type": "code",
   "execution_count": 88,
   "metadata": {},
   "outputs": [
    {
     "data": {
      "text/html": [
       "<div>\n",
       "<style scoped>\n",
       "    .dataframe tbody tr th:only-of-type {\n",
       "        vertical-align: middle;\n",
       "    }\n",
       "\n",
       "    .dataframe tbody tr th {\n",
       "        vertical-align: top;\n",
       "    }\n",
       "\n",
       "    .dataframe thead th {\n",
       "        text-align: right;\n",
       "    }\n",
       "</style>\n",
       "<table border=\"1\" class=\"dataframe\">\n",
       "  <thead>\n",
       "    <tr style=\"text-align: right;\">\n",
       "      <th></th>\n",
       "      <th>Model</th>\n",
       "      <th>Price</th>\n",
       "      <th>Age_08_04</th>\n",
       "      <th>Mfg_Month</th>\n",
       "      <th>Mfg_Year</th>\n",
       "      <th>KM</th>\n",
       "      <th>Fuel_Type</th>\n",
       "      <th>HP</th>\n",
       "      <th>Met_Color</th>\n",
       "      <th>Color</th>\n",
       "      <th>...</th>\n",
       "      <th>Central_Lock</th>\n",
       "      <th>Powered_Windows</th>\n",
       "      <th>Power_Steering</th>\n",
       "      <th>Radio</th>\n",
       "      <th>Mistlamps</th>\n",
       "      <th>Sport_Model</th>\n",
       "      <th>Backseat_Divider</th>\n",
       "      <th>Metallic_Rim</th>\n",
       "      <th>Radio_cassette</th>\n",
       "      <th>Tow_Bar</th>\n",
       "    </tr>\n",
       "  </thead>\n",
       "  <tbody>\n",
       "    <tr>\n",
       "      <th>0</th>\n",
       "      <td>TOYOTA Corolla 2.0 D4D HATCHB TERRA 2/3-Doors</td>\n",
       "      <td>13500</td>\n",
       "      <td>23</td>\n",
       "      <td>10</td>\n",
       "      <td>2002</td>\n",
       "      <td>46986</td>\n",
       "      <td>Diesel</td>\n",
       "      <td>90</td>\n",
       "      <td>1</td>\n",
       "      <td>Blue</td>\n",
       "      <td>...</td>\n",
       "      <td>1</td>\n",
       "      <td>1</td>\n",
       "      <td>1</td>\n",
       "      <td>0</td>\n",
       "      <td>0</td>\n",
       "      <td>0</td>\n",
       "      <td>1</td>\n",
       "      <td>0</td>\n",
       "      <td>0</td>\n",
       "      <td>0</td>\n",
       "    </tr>\n",
       "    <tr>\n",
       "      <th>1</th>\n",
       "      <td>TOYOTA Corolla 2.0 D4D HATCHB TERRA 2/3-Doors</td>\n",
       "      <td>13750</td>\n",
       "      <td>23</td>\n",
       "      <td>10</td>\n",
       "      <td>2002</td>\n",
       "      <td>72937</td>\n",
       "      <td>Diesel</td>\n",
       "      <td>90</td>\n",
       "      <td>1</td>\n",
       "      <td>Silver</td>\n",
       "      <td>...</td>\n",
       "      <td>1</td>\n",
       "      <td>0</td>\n",
       "      <td>1</td>\n",
       "      <td>0</td>\n",
       "      <td>0</td>\n",
       "      <td>0</td>\n",
       "      <td>1</td>\n",
       "      <td>0</td>\n",
       "      <td>0</td>\n",
       "      <td>0</td>\n",
       "    </tr>\n",
       "    <tr>\n",
       "      <th>2</th>\n",
       "      <td>TOYOTA Corolla 2.0 D4D HATCHB TERRA 2/3-Doors</td>\n",
       "      <td>13950</td>\n",
       "      <td>24</td>\n",
       "      <td>9</td>\n",
       "      <td>2002</td>\n",
       "      <td>41711</td>\n",
       "      <td>Diesel</td>\n",
       "      <td>90</td>\n",
       "      <td>1</td>\n",
       "      <td>Blue</td>\n",
       "      <td>...</td>\n",
       "      <td>0</td>\n",
       "      <td>0</td>\n",
       "      <td>1</td>\n",
       "      <td>0</td>\n",
       "      <td>0</td>\n",
       "      <td>0</td>\n",
       "      <td>1</td>\n",
       "      <td>0</td>\n",
       "      <td>0</td>\n",
       "      <td>0</td>\n",
       "    </tr>\n",
       "    <tr>\n",
       "      <th>3</th>\n",
       "      <td>TOYOTA Corolla 2.0 D4D HATCHB TERRA 2/3-Doors</td>\n",
       "      <td>14950</td>\n",
       "      <td>26</td>\n",
       "      <td>7</td>\n",
       "      <td>2002</td>\n",
       "      <td>48000</td>\n",
       "      <td>Diesel</td>\n",
       "      <td>90</td>\n",
       "      <td>0</td>\n",
       "      <td>Black</td>\n",
       "      <td>...</td>\n",
       "      <td>0</td>\n",
       "      <td>0</td>\n",
       "      <td>1</td>\n",
       "      <td>0</td>\n",
       "      <td>0</td>\n",
       "      <td>0</td>\n",
       "      <td>1</td>\n",
       "      <td>0</td>\n",
       "      <td>0</td>\n",
       "      <td>0</td>\n",
       "    </tr>\n",
       "    <tr>\n",
       "      <th>4</th>\n",
       "      <td>TOYOTA Corolla 2.0 D4D HATCHB SOL 2/3-Doors</td>\n",
       "      <td>13750</td>\n",
       "      <td>30</td>\n",
       "      <td>3</td>\n",
       "      <td>2002</td>\n",
       "      <td>38500</td>\n",
       "      <td>Diesel</td>\n",
       "      <td>90</td>\n",
       "      <td>0</td>\n",
       "      <td>Black</td>\n",
       "      <td>...</td>\n",
       "      <td>1</td>\n",
       "      <td>1</td>\n",
       "      <td>1</td>\n",
       "      <td>0</td>\n",
       "      <td>1</td>\n",
       "      <td>0</td>\n",
       "      <td>1</td>\n",
       "      <td>0</td>\n",
       "      <td>0</td>\n",
       "      <td>0</td>\n",
       "    </tr>\n",
       "  </tbody>\n",
       "</table>\n",
       "<p>5 rows × 37 columns</p>\n",
       "</div>"
      ],
      "text/plain": [
       "                                            Model  Price  Age_08_04  \\\n",
       "0   TOYOTA Corolla 2.0 D4D HATCHB TERRA 2/3-Doors  13500         23   \n",
       "1   TOYOTA Corolla 2.0 D4D HATCHB TERRA 2/3-Doors  13750         23   \n",
       "2   TOYOTA Corolla 2.0 D4D HATCHB TERRA 2/3-Doors  13950         24   \n",
       "3   TOYOTA Corolla 2.0 D4D HATCHB TERRA 2/3-Doors  14950         26   \n",
       "4     TOYOTA Corolla 2.0 D4D HATCHB SOL 2/3-Doors  13750         30   \n",
       "\n",
       "   Mfg_Month  Mfg_Year     KM Fuel_Type  HP  Met_Color   Color  ...  \\\n",
       "0         10      2002  46986    Diesel  90          1    Blue  ...   \n",
       "1         10      2002  72937    Diesel  90          1  Silver  ...   \n",
       "2          9      2002  41711    Diesel  90          1    Blue  ...   \n",
       "3          7      2002  48000    Diesel  90          0   Black  ...   \n",
       "4          3      2002  38500    Diesel  90          0   Black  ...   \n",
       "\n",
       "   Central_Lock  Powered_Windows  Power_Steering  Radio  Mistlamps  \\\n",
       "0             1                1               1      0          0   \n",
       "1             1                0               1      0          0   \n",
       "2             0                0               1      0          0   \n",
       "3             0                0               1      0          0   \n",
       "4             1                1               1      0          1   \n",
       "\n",
       "   Sport_Model  Backseat_Divider  Metallic_Rim  Radio_cassette  Tow_Bar  \n",
       "0            0                 1             0               0        0  \n",
       "1            0                 1             0               0        0  \n",
       "2            0                 1             0               0        0  \n",
       "3            0                 1             0               0        0  \n",
       "4            0                 1             0               0        0  \n",
       "\n",
       "[5 rows x 37 columns]"
      ]
     },
     "execution_count": 88,
     "metadata": {},
     "output_type": "execute_result"
    }
   ],
   "source": [
    "#df = pd.read_csv(\"IML_DataSets\\Adult.csv\")\n",
    "df2 = pd.read_excel(\"DMforBA_DataSets/ToyotaCorolla.xls\")\n",
    "df2 = df2.loc[:, df2.columns != 'Id']\n",
    "df2.head()"
   ]
  },
  {
   "cell_type": "code",
   "execution_count": 90,
   "metadata": {},
   "outputs": [
    {
     "data": {
      "text/html": [
       "<div>\n",
       "<style scoped>\n",
       "    .dataframe tbody tr th:only-of-type {\n",
       "        vertical-align: middle;\n",
       "    }\n",
       "\n",
       "    .dataframe tbody tr th {\n",
       "        vertical-align: top;\n",
       "    }\n",
       "\n",
       "    .dataframe thead th {\n",
       "        text-align: right;\n",
       "    }\n",
       "</style>\n",
       "<table border=\"1\" class=\"dataframe\">\n",
       "  <thead>\n",
       "    <tr style=\"text-align: right;\">\n",
       "      <th></th>\n",
       "      <th>Price</th>\n",
       "      <th>Age_08_04</th>\n",
       "      <th>KM</th>\n",
       "      <th>Fuel_Type</th>\n",
       "      <th>Automatic</th>\n",
       "      <th>Gears</th>\n",
       "    </tr>\n",
       "  </thead>\n",
       "  <tbody>\n",
       "    <tr>\n",
       "      <th>0</th>\n",
       "      <td>13500</td>\n",
       "      <td>23</td>\n",
       "      <td>46986</td>\n",
       "      <td>Diesel</td>\n",
       "      <td>0</td>\n",
       "      <td>5</td>\n",
       "    </tr>\n",
       "    <tr>\n",
       "      <th>1</th>\n",
       "      <td>13750</td>\n",
       "      <td>23</td>\n",
       "      <td>72937</td>\n",
       "      <td>Diesel</td>\n",
       "      <td>0</td>\n",
       "      <td>5</td>\n",
       "    </tr>\n",
       "    <tr>\n",
       "      <th>2</th>\n",
       "      <td>13950</td>\n",
       "      <td>24</td>\n",
       "      <td>41711</td>\n",
       "      <td>Diesel</td>\n",
       "      <td>0</td>\n",
       "      <td>5</td>\n",
       "    </tr>\n",
       "    <tr>\n",
       "      <th>3</th>\n",
       "      <td>14950</td>\n",
       "      <td>26</td>\n",
       "      <td>48000</td>\n",
       "      <td>Diesel</td>\n",
       "      <td>0</td>\n",
       "      <td>5</td>\n",
       "    </tr>\n",
       "    <tr>\n",
       "      <th>4</th>\n",
       "      <td>13750</td>\n",
       "      <td>30</td>\n",
       "      <td>38500</td>\n",
       "      <td>Diesel</td>\n",
       "      <td>0</td>\n",
       "      <td>5</td>\n",
       "    </tr>\n",
       "  </tbody>\n",
       "</table>\n",
       "</div>"
      ],
      "text/plain": [
       "   Price  Age_08_04     KM Fuel_Type  Automatic  Gears\n",
       "0  13500         23  46986    Diesel          0      5\n",
       "1  13750         23  72937    Diesel          0      5\n",
       "2  13950         24  41711    Diesel          0      5\n",
       "3  14950         26  48000    Diesel          0      5\n",
       "4  13750         30  38500    Diesel          0      5"
      ]
     },
     "execution_count": 90,
     "metadata": {},
     "output_type": "execute_result"
    }
   ],
   "source": [
    "df = df2[['Price', 'Age_08_04', 'KM', 'Fuel_Type', 'Automatic', 'Gears']]\n",
    "df.head()"
   ]
  },
  {
   "cell_type": "code",
   "execution_count": 91,
   "metadata": {},
   "outputs": [
    {
     "data": {
      "text/plain": [
       "Price         int64\n",
       "Age_08_04     int64\n",
       "KM            int64\n",
       "Fuel_Type    object\n",
       "Automatic     int64\n",
       "Gears         int64\n",
       "dtype: object"
      ]
     },
     "execution_count": 91,
     "metadata": {},
     "output_type": "execute_result"
    }
   ],
   "source": [
    "df.dtypes"
   ]
  },
  {
   "cell_type": "code",
   "execution_count": 92,
   "metadata": {},
   "outputs": [
    {
     "name": "stdout",
     "output_type": "stream",
     "text": [
      "Original features:\n",
      " ['Price', 'Age_08_04', 'KM', 'Fuel_Type', 'Automatic', 'Gears'] \n",
      "\n",
      "Features after get_dummies:\n",
      " ['Price', 'Age_08_04', 'KM', 'Automatic', 'Gears', 'Fuel_Type_Diesel', 'Fuel_Type_Petrol']\n"
     ]
    }
   ],
   "source": [
    "df_dummy = pd.get_dummies(df,drop_first=True)\n",
    "print(\"Original features:\\n\", list(df.columns), \"\\n\")\n",
    "print(\"Features after get_dummies:\\n\", list(df_dummy.columns))"
   ]
  },
  {
   "cell_type": "code",
   "execution_count": 93,
   "metadata": {},
   "outputs": [
    {
     "name": "stdout",
     "output_type": "stream",
     "text": [
      "Original features:\n",
      " ['Price', 'Age_08_04', 'KM', 'Fuel_Type', 'Automatic', 'Gears'] \n",
      "\n",
      "Features after get_dummies:\n",
      " ['Price', 'Age_08_04', 'KM', 'Automatic', 'Gears', 'Fuel_Type_CNG', 'Fuel_Type_Diesel', 'Fuel_Type_Petrol']\n"
     ]
    }
   ],
   "source": [
    "df_onehot = pd.get_dummies(df)\n",
    "print(\"Original features:\\n\", list(df.columns), \"\\n\")\n",
    "print(\"Features after get_dummies:\\n\", list(df_onehot.columns))"
   ]
  },
  {
   "cell_type": "code",
   "execution_count": 94,
   "metadata": {},
   "outputs": [
    {
     "data": {
      "text/html": [
       "<div>\n",
       "<style scoped>\n",
       "    .dataframe tbody tr th:only-of-type {\n",
       "        vertical-align: middle;\n",
       "    }\n",
       "\n",
       "    .dataframe tbody tr th {\n",
       "        vertical-align: top;\n",
       "    }\n",
       "\n",
       "    .dataframe thead th {\n",
       "        text-align: right;\n",
       "    }\n",
       "</style>\n",
       "<table border=\"1\" class=\"dataframe\">\n",
       "  <thead>\n",
       "    <tr style=\"text-align: right;\">\n",
       "      <th></th>\n",
       "      <th>Price</th>\n",
       "      <th>Age_08_04</th>\n",
       "      <th>KM</th>\n",
       "      <th>Automatic</th>\n",
       "      <th>Gears</th>\n",
       "      <th>Fuel_Type_CNG</th>\n",
       "      <th>Fuel_Type_Diesel</th>\n",
       "      <th>Fuel_Type_Petrol</th>\n",
       "    </tr>\n",
       "  </thead>\n",
       "  <tbody>\n",
       "    <tr>\n",
       "      <th>0</th>\n",
       "      <td>13500</td>\n",
       "      <td>23</td>\n",
       "      <td>46986</td>\n",
       "      <td>0</td>\n",
       "      <td>5</td>\n",
       "      <td>False</td>\n",
       "      <td>True</td>\n",
       "      <td>False</td>\n",
       "    </tr>\n",
       "    <tr>\n",
       "      <th>1</th>\n",
       "      <td>13750</td>\n",
       "      <td>23</td>\n",
       "      <td>72937</td>\n",
       "      <td>0</td>\n",
       "      <td>5</td>\n",
       "      <td>False</td>\n",
       "      <td>True</td>\n",
       "      <td>False</td>\n",
       "    </tr>\n",
       "    <tr>\n",
       "      <th>2</th>\n",
       "      <td>13950</td>\n",
       "      <td>24</td>\n",
       "      <td>41711</td>\n",
       "      <td>0</td>\n",
       "      <td>5</td>\n",
       "      <td>False</td>\n",
       "      <td>True</td>\n",
       "      <td>False</td>\n",
       "    </tr>\n",
       "    <tr>\n",
       "      <th>3</th>\n",
       "      <td>14950</td>\n",
       "      <td>26</td>\n",
       "      <td>48000</td>\n",
       "      <td>0</td>\n",
       "      <td>5</td>\n",
       "      <td>False</td>\n",
       "      <td>True</td>\n",
       "      <td>False</td>\n",
       "    </tr>\n",
       "    <tr>\n",
       "      <th>4</th>\n",
       "      <td>13750</td>\n",
       "      <td>30</td>\n",
       "      <td>38500</td>\n",
       "      <td>0</td>\n",
       "      <td>5</td>\n",
       "      <td>False</td>\n",
       "      <td>True</td>\n",
       "      <td>False</td>\n",
       "    </tr>\n",
       "  </tbody>\n",
       "</table>\n",
       "</div>"
      ],
      "text/plain": [
       "   Price  Age_08_04     KM  Automatic  Gears  Fuel_Type_CNG  Fuel_Type_Diesel  \\\n",
       "0  13500         23  46986          0      5          False              True   \n",
       "1  13750         23  72937          0      5          False              True   \n",
       "2  13950         24  41711          0      5          False              True   \n",
       "3  14950         26  48000          0      5          False              True   \n",
       "4  13750         30  38500          0      5          False              True   \n",
       "\n",
       "   Fuel_Type_Petrol  \n",
       "0             False  \n",
       "1             False  \n",
       "2             False  \n",
       "3             False  \n",
       "4             False  "
      ]
     },
     "execution_count": 94,
     "metadata": {},
     "output_type": "execute_result"
    }
   ],
   "source": [
    "df_onehot.head()"
   ]
  },
  {
   "cell_type": "code",
   "execution_count": 95,
   "metadata": {},
   "outputs": [],
   "source": [
    "#assign X to all variables except Price\n",
    "X = df_onehot.loc[:, df_onehot.columns != 'Price']\n",
    "#assign y to Price\n",
    "y = df_onehot[['Price']]"
   ]
  },
  {
   "cell_type": "code",
   "execution_count": null,
   "metadata": {},
   "outputs": [],
   "source": []
  },
  {
   "cell_type": "code",
   "execution_count": 96,
   "metadata": {},
   "outputs": [],
   "source": [
    "from sklearn.linear_model import LinearRegression\n",
    "from sklearn.tree import DecisionTreeRegressor \n",
    "from sklearn.ensemble import RandomForestRegressor, GradientBoostingRegressor\n",
    "from sklearn import tree"
   ]
  },
  {
   "cell_type": "code",
   "execution_count": 97,
   "metadata": {},
   "outputs": [],
   "source": [
    "from sklearn.metrics import mean_squared_error, r2_score\n",
    "from sklearn.model_selection import train_test_split"
   ]
  },
  {
   "cell_type": "code",
   "execution_count": 98,
   "metadata": {},
   "outputs": [],
   "source": [
    "import warnings\n",
    "warnings.filterwarnings(\"ignore\")"
   ]
  },
  {
   "cell_type": "code",
   "execution_count": 100,
   "metadata": {},
   "outputs": [
    {
     "name": "stdout",
     "output_type": "stream",
     "text": [
      "LR: R2 = 0.7795 and MSE = 3165908.84\n",
      "DT: R2 = 0.8232 and MSE = 2537913.26\n",
      "RF: R2 = 0.8600 and MSE = 2009372.75\n",
      "GB: R2 = 0.8391 and MSE = 2310263.42\n"
     ]
    }
   ],
   "source": [
    "X_train, X_test, y_train, y_test = train_test_split(X, y, test_size = 0.3)\n",
    "reg2 = LinearRegression().fit(X_train, y_train)\n",
    "y_pred = reg2.predict(X_test)\n",
    "print(\"LR: R2 = %.4f and MSE = %.2f\" % (reg2.score(X_test,y_test), mean_squared_error(y_test, y_pred)))\n",
    "\n",
    "regTree = DecisionTreeRegressor(max_depth=10,random_state=0)\n",
    "regTree.fit(X_train, y_train)\n",
    "y_pred = regTree.predict(X_test)\n",
    "print(\"DT: R2 = %.4f and MSE = %.2f\" % (regTree.score(X_test,y_test), mean_squared_error(y_test, y_pred)))\n",
    "\n",
    "regRF = RandomForestRegressor(max_depth=6, max_features=4, min_samples_split=8,\n",
    "                      n_estimators=300, random_state=0)\n",
    "regRF.fit(X_train, y_train)\n",
    "y_pred = regRF.predict(X_test)\n",
    "print(\"RF: R2 = %.4f and MSE = %.2f\" % (regRF.score(X_test,y_test), mean_squared_error(y_test, y_pred)))\n",
    "\n",
    "regGB = GradientBoostingRegressor(max_depth=10, max_features=4, min_samples_split=8,\n",
    "                      n_estimators=300, random_state=0)\n",
    "regGB.fit(X_train, y_train)\n",
    "y_pred = regGB.predict(X_test)\n",
    "print(\"GB: R2 = %.4f and MSE = %.2f\" % (regGB.score(X_test,y_test), mean_squared_error(y_test, y_pred)))\n"
   ]
  },
  {
   "cell_type": "code",
   "execution_count": 101,
   "metadata": {},
   "outputs": [],
   "source": [
    "from sklearn.model_selection import KFold\n",
    "from sklearn.model_selection import cross_val_score"
   ]
  },
  {
   "cell_type": "code",
   "execution_count": 102,
   "metadata": {},
   "outputs": [
    {
     "name": "stdout",
     "output_type": "stream",
     "text": [
      "-2678388.6737231407\n"
     ]
    }
   ],
   "source": [
    "cv = KFold(n_splits=10, random_state=0, shuffle=True)\n",
    "reg = LinearRegression()\n",
    "    \n",
    "# evaluate model\n",
    "scores = cross_val_score(reg, X, y, cv=cv, scoring='neg_mean_squared_error') \n",
    "print(sum(scores)/len(scores))\n",
    "#scores"
   ]
  },
  {
   "cell_type": "code",
   "execution_count": 103,
   "metadata": {},
   "outputs": [
    {
     "name": "stdout",
     "output_type": "stream",
     "text": [
      "-2306151.9035068615\n"
     ]
    }
   ],
   "source": [
    "cv = KFold(n_splits=10, random_state=1234, shuffle=True)\n",
    "reg = DecisionTreeRegressor(max_depth=10,random_state=0)\n",
    "    \n",
    "# evaluate model\n",
    "scores = cross_val_score(reg, X, y, cv=cv, scoring='neg_mean_squared_error') \n",
    "print(sum(scores)/len(scores))"
   ]
  },
  {
   "cell_type": "code",
   "execution_count": 104,
   "metadata": {},
   "outputs": [
    {
     "name": "stdout",
     "output_type": "stream",
     "text": [
      "-2076663.833036074\n"
     ]
    }
   ],
   "source": [
    "cv = KFold(n_splits=10, random_state=1234, shuffle=True)\n",
    "reg = GradientBoostingRegressor(max_depth=10, max_features=4, min_samples_split=8,\n",
    "                      n_estimators=300, random_state=0)\n",
    "    \n",
    "# evaluate model\n",
    "scores = cross_val_score(reg, X, y, cv=cv, scoring='neg_mean_squared_error') \n",
    "print(sum(scores)/len(scores))"
   ]
  },
  {
   "cell_type": "code",
   "execution_count": 105,
   "metadata": {},
   "outputs": [],
   "source": [
    "from sklearn.neighbors import KNeighborsRegressor"
   ]
  },
  {
   "cell_type": "code",
   "execution_count": 106,
   "metadata": {},
   "outputs": [
    {
     "name": "stdout",
     "output_type": "stream",
     "text": [
      "-7873554.4300186485\n"
     ]
    }
   ],
   "source": [
    "#df = pd.read_csv(\"ISL_DataSets/Advertising.csv\")\n",
    "neigh = KNeighborsRegressor(n_neighbors=5)\n",
    "\n",
    "#print(reg.coef_)\n",
    "#print(reg.intercept_)\n",
    "scores = cross_val_score(neigh, X, y, cv=cv, scoring='neg_mean_squared_error') \n",
    "print(sum(scores)/len(scores))"
   ]
  },
  {
   "cell_type": "code",
   "execution_count": 107,
   "metadata": {},
   "outputs": [
    {
     "name": "stdout",
     "output_type": "stream",
     "text": [
      "-8442504.59971672\n"
     ]
    }
   ],
   "source": [
    "#df = pd.read_csv(\"ISL_DataSets/Advertising.csv\")\n",
    "neigh = KNeighborsRegressor(n_neighbors=3)\n",
    "\n",
    "#print(reg.coef_)\n",
    "#print(reg.intercept_)\n",
    "scores = cross_val_score(neigh, X, y, cv=cv, scoring='neg_mean_squared_error') \n",
    "print(sum(scores)/len(scores))\n"
   ]
  },
  {
   "cell_type": "code",
   "execution_count": 108,
   "metadata": {},
   "outputs": [],
   "source": [
    "from sklearn.pipeline import Pipeline\n",
    "from sklearn.preprocessing import MinMaxScaler"
   ]
  },
  {
   "cell_type": "code",
   "execution_count": 109,
   "metadata": {},
   "outputs": [
    {
     "name": "stdout",
     "output_type": "stream",
     "text": [
      "-1851537.5657688424\n"
     ]
    }
   ],
   "source": [
    "pipe_knn = Pipeline([(\"scaler\", MinMaxScaler()), (\"knr\", KNeighborsRegressor(n_neighbors=5))])\n",
    "scores = cross_val_score(pipe_knn, X, y, cv=cv, scoring='neg_mean_squared_error') \n",
    "print(sum(scores)/len(scores))"
   ]
  },
  {
   "cell_type": "code",
   "execution_count": 110,
   "metadata": {},
   "outputs": [
    {
     "name": "stdout",
     "output_type": "stream",
     "text": [
      "-1986740.3493454847\n"
     ]
    }
   ],
   "source": [
    "pipe_knn = Pipeline([(\"scaler\", MinMaxScaler()), (\"knr\", KNeighborsRegressor(n_neighbors=3))])\n",
    "scores = cross_val_score(pipe_knn, X, y, cv=cv, scoring='neg_mean_squared_error') \n",
    "print(sum(scores)/len(scores))"
   ]
  }
 ],
 "metadata": {
  "kernelspec": {
   "display_name": "Python 3.8.5 64-bit",
   "language": "python",
   "name": "python3"
  },
  "language_info": {
   "codemirror_mode": {
    "name": "ipython",
    "version": 3
   },
   "file_extension": ".py",
   "mimetype": "text/x-python",
   "name": "python",
   "nbconvert_exporter": "python",
   "pygments_lexer": "ipython3",
   "version": "3.10.12"
  },
  "orig_nbformat": 4,
  "vscode": {
   "interpreter": {
    "hash": "5e9236c168fd9c5a2497735f30867c8b2a4981b493523b82ffb7e802a066bea3"
   }
  }
 },
 "nbformat": 4,
 "nbformat_minor": 2
}
