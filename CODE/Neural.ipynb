{
 "cells": [
  {
   "cell_type": "code",
   "execution_count": 27,
   "metadata": {},
   "outputs": [],
   "source": [
    "import pandas as pd\n",
    "from matplotlib import pyplot as plt\n",
    "from sklearn.model_selection import train_test_split\n",
    "from sklearn.metrics import mean_squared_error\n",
    "from sklearn.preprocessing import StandardScaler,RobustScaler\n",
    "import csv\n",
    "import statsmodels.api as sm\n",
    "from sklearn.feature_selection import SelectKBest,f_regression\n",
    "from sklearn.preprocessing import LabelEncoder\n",
    "import seaborn as sns\n",
    "from keras.layers import Dense, Dropout, LeakyReLU"
   ]
  },
  {
   "cell_type": "code",
   "execution_count": 28,
   "metadata": {},
   "outputs": [
    {
     "name": "stdout",
     "output_type": "stream",
     "text": [
      "d:\\IML ASSIGNMENT 2\\CODE\n"
     ]
    }
   ],
   "source": [
    "import os\n",
    "print(os.getcwd())"
   ]
  },
  {
   "cell_type": "code",
   "execution_count": 29,
   "metadata": {},
   "outputs": [],
   "source": [
    "df = pd.read_csv('train.csv')"
   ]
  },
  {
   "cell_type": "code",
   "execution_count": 30,
   "metadata": {},
   "outputs": [],
   "source": [
    "X = df.loc[:, df.columns != 'price_doc']\n",
    "y = df[['price_doc']]"
   ]
  },
  {
   "cell_type": "code",
   "execution_count": 31,
   "metadata": {},
   "outputs": [],
   "source": [
    "object_cols = X.select_dtypes(include=['object']).columns"
   ]
  },
  {
   "cell_type": "code",
   "execution_count": 32,
   "metadata": {},
   "outputs": [
    {
     "name": "stderr",
     "output_type": "stream",
     "text": [
      "C:\\Users\\Irtiza\\AppData\\Local\\Temp\\ipykernel_15748\\2966562952.py:3: SettingWithCopyWarning: \n",
      "A value is trying to be set on a copy of a slice from a DataFrame.\n",
      "Try using .loc[row_indexer,col_indexer] = value instead\n",
      "\n",
      "See the caveats in the documentation: https://pandas.pydata.org/pandas-docs/stable/user_guide/indexing.html#returning-a-view-versus-a-copy\n",
      "  X[col] = label.fit_transform(X[col].astype(str))\n",
      "C:\\Users\\Irtiza\\AppData\\Local\\Temp\\ipykernel_15748\\2966562952.py:3: SettingWithCopyWarning: \n",
      "A value is trying to be set on a copy of a slice from a DataFrame.\n",
      "Try using .loc[row_indexer,col_indexer] = value instead\n",
      "\n",
      "See the caveats in the documentation: https://pandas.pydata.org/pandas-docs/stable/user_guide/indexing.html#returning-a-view-versus-a-copy\n",
      "  X[col] = label.fit_transform(X[col].astype(str))\n",
      "C:\\Users\\Irtiza\\AppData\\Local\\Temp\\ipykernel_15748\\2966562952.py:3: SettingWithCopyWarning: \n",
      "A value is trying to be set on a copy of a slice from a DataFrame.\n",
      "Try using .loc[row_indexer,col_indexer] = value instead\n",
      "\n",
      "See the caveats in the documentation: https://pandas.pydata.org/pandas-docs/stable/user_guide/indexing.html#returning-a-view-versus-a-copy\n",
      "  X[col] = label.fit_transform(X[col].astype(str))\n",
      "C:\\Users\\Irtiza\\AppData\\Local\\Temp\\ipykernel_15748\\2966562952.py:3: SettingWithCopyWarning: \n",
      "A value is trying to be set on a copy of a slice from a DataFrame.\n",
      "Try using .loc[row_indexer,col_indexer] = value instead\n",
      "\n",
      "See the caveats in the documentation: https://pandas.pydata.org/pandas-docs/stable/user_guide/indexing.html#returning-a-view-versus-a-copy\n",
      "  X[col] = label.fit_transform(X[col].astype(str))\n",
      "C:\\Users\\Irtiza\\AppData\\Local\\Temp\\ipykernel_15748\\2966562952.py:3: SettingWithCopyWarning: \n",
      "A value is trying to be set on a copy of a slice from a DataFrame.\n",
      "Try using .loc[row_indexer,col_indexer] = value instead\n",
      "\n",
      "See the caveats in the documentation: https://pandas.pydata.org/pandas-docs/stable/user_guide/indexing.html#returning-a-view-versus-a-copy\n",
      "  X[col] = label.fit_transform(X[col].astype(str))\n",
      "C:\\Users\\Irtiza\\AppData\\Local\\Temp\\ipykernel_15748\\2966562952.py:3: SettingWithCopyWarning: \n",
      "A value is trying to be set on a copy of a slice from a DataFrame.\n",
      "Try using .loc[row_indexer,col_indexer] = value instead\n",
      "\n",
      "See the caveats in the documentation: https://pandas.pydata.org/pandas-docs/stable/user_guide/indexing.html#returning-a-view-versus-a-copy\n",
      "  X[col] = label.fit_transform(X[col].astype(str))\n",
      "C:\\Users\\Irtiza\\AppData\\Local\\Temp\\ipykernel_15748\\2966562952.py:3: SettingWithCopyWarning: \n",
      "A value is trying to be set on a copy of a slice from a DataFrame.\n",
      "Try using .loc[row_indexer,col_indexer] = value instead\n",
      "\n",
      "See the caveats in the documentation: https://pandas.pydata.org/pandas-docs/stable/user_guide/indexing.html#returning-a-view-versus-a-copy\n",
      "  X[col] = label.fit_transform(X[col].astype(str))\n",
      "C:\\Users\\Irtiza\\AppData\\Local\\Temp\\ipykernel_15748\\2966562952.py:3: SettingWithCopyWarning: \n",
      "A value is trying to be set on a copy of a slice from a DataFrame.\n",
      "Try using .loc[row_indexer,col_indexer] = value instead\n",
      "\n",
      "See the caveats in the documentation: https://pandas.pydata.org/pandas-docs/stable/user_guide/indexing.html#returning-a-view-versus-a-copy\n",
      "  X[col] = label.fit_transform(X[col].astype(str))\n",
      "C:\\Users\\Irtiza\\AppData\\Local\\Temp\\ipykernel_15748\\2966562952.py:3: SettingWithCopyWarning: \n",
      "A value is trying to be set on a copy of a slice from a DataFrame.\n",
      "Try using .loc[row_indexer,col_indexer] = value instead\n",
      "\n",
      "See the caveats in the documentation: https://pandas.pydata.org/pandas-docs/stable/user_guide/indexing.html#returning-a-view-versus-a-copy\n",
      "  X[col] = label.fit_transform(X[col].astype(str))\n",
      "C:\\Users\\Irtiza\\AppData\\Local\\Temp\\ipykernel_15748\\2966562952.py:3: SettingWithCopyWarning: \n",
      "A value is trying to be set on a copy of a slice from a DataFrame.\n",
      "Try using .loc[row_indexer,col_indexer] = value instead\n",
      "\n",
      "See the caveats in the documentation: https://pandas.pydata.org/pandas-docs/stable/user_guide/indexing.html#returning-a-view-versus-a-copy\n",
      "  X[col] = label.fit_transform(X[col].astype(str))\n",
      "C:\\Users\\Irtiza\\AppData\\Local\\Temp\\ipykernel_15748\\2966562952.py:3: SettingWithCopyWarning: \n",
      "A value is trying to be set on a copy of a slice from a DataFrame.\n",
      "Try using .loc[row_indexer,col_indexer] = value instead\n",
      "\n",
      "See the caveats in the documentation: https://pandas.pydata.org/pandas-docs/stable/user_guide/indexing.html#returning-a-view-versus-a-copy\n",
      "  X[col] = label.fit_transform(X[col].astype(str))\n",
      "C:\\Users\\Irtiza\\AppData\\Local\\Temp\\ipykernel_15748\\2966562952.py:3: SettingWithCopyWarning: \n",
      "A value is trying to be set on a copy of a slice from a DataFrame.\n",
      "Try using .loc[row_indexer,col_indexer] = value instead\n",
      "\n",
      "See the caveats in the documentation: https://pandas.pydata.org/pandas-docs/stable/user_guide/indexing.html#returning-a-view-versus-a-copy\n",
      "  X[col] = label.fit_transform(X[col].astype(str))\n",
      "C:\\Users\\Irtiza\\AppData\\Local\\Temp\\ipykernel_15748\\2966562952.py:3: SettingWithCopyWarning: \n",
      "A value is trying to be set on a copy of a slice from a DataFrame.\n",
      "Try using .loc[row_indexer,col_indexer] = value instead\n",
      "\n",
      "See the caveats in the documentation: https://pandas.pydata.org/pandas-docs/stable/user_guide/indexing.html#returning-a-view-versus-a-copy\n",
      "  X[col] = label.fit_transform(X[col].astype(str))\n",
      "C:\\Users\\Irtiza\\AppData\\Local\\Temp\\ipykernel_15748\\2966562952.py:3: SettingWithCopyWarning: \n",
      "A value is trying to be set on a copy of a slice from a DataFrame.\n",
      "Try using .loc[row_indexer,col_indexer] = value instead\n",
      "\n",
      "See the caveats in the documentation: https://pandas.pydata.org/pandas-docs/stable/user_guide/indexing.html#returning-a-view-versus-a-copy\n",
      "  X[col] = label.fit_transform(X[col].astype(str))\n",
      "C:\\Users\\Irtiza\\AppData\\Local\\Temp\\ipykernel_15748\\2966562952.py:3: SettingWithCopyWarning: \n",
      "A value is trying to be set on a copy of a slice from a DataFrame.\n",
      "Try using .loc[row_indexer,col_indexer] = value instead\n",
      "\n",
      "See the caveats in the documentation: https://pandas.pydata.org/pandas-docs/stable/user_guide/indexing.html#returning-a-view-versus-a-copy\n",
      "  X[col] = label.fit_transform(X[col].astype(str))\n"
     ]
    }
   ],
   "source": [
    "label = LabelEncoder()\n",
    "for col in object_cols:\n",
    "    X[col] = label.fit_transform(X[col].astype(str))"
   ]
  },
  {
   "cell_type": "code",
   "execution_count": 33,
   "metadata": {},
   "outputs": [
    {
     "data": {
      "text/plain": [
       "(181507, 271)"
      ]
     },
     "execution_count": 33,
     "metadata": {},
     "output_type": "execute_result"
    }
   ],
   "source": [
    "X.shape"
   ]
  },
  {
   "cell_type": "code",
   "execution_count": 34,
   "metadata": {},
   "outputs": [],
   "source": [
    "num_cols = X.select_dtypes(include=['int64','float64']).columns"
   ]
  },
  {
   "cell_type": "code",
   "execution_count": 35,
   "metadata": {},
   "outputs": [
    {
     "name": "stderr",
     "output_type": "stream",
     "text": [
      "C:\\Users\\Irtiza\\AppData\\Local\\Temp\\ipykernel_15748\\3760893776.py:5: SettingWithCopyWarning: \n",
      "A value is trying to be set on a copy of a slice from a DataFrame.\n",
      "Try using .loc[row_indexer,col_indexer] = value instead\n",
      "\n",
      "See the caveats in the documentation: https://pandas.pydata.org/pandas-docs/stable/user_guide/indexing.html#returning-a-view-versus-a-copy\n",
      "  X[num_cols] = scaler.fit_transform(X[num_cols])\n"
     ]
    }
   ],
   "source": [
    "from sklearn.preprocessing import StandardScaler\n",
    "\n",
    "# scaler = StandardScaler()\n",
    "scaler = RobustScaler()\n",
    "X[num_cols] = scaler.fit_transform(X[num_cols])"
   ]
  },
  {
   "cell_type": "code",
   "execution_count": 36,
   "metadata": {},
   "outputs": [
    {
     "data": {
      "text/plain": [
       "(181507, 271)"
      ]
     },
     "execution_count": 36,
     "metadata": {},
     "output_type": "execute_result"
    }
   ],
   "source": [
    "X.shape"
   ]
  },
  {
   "cell_type": "code",
   "execution_count": 37,
   "metadata": {},
   "outputs": [],
   "source": [
    "from sklearn.decomposition import PCA\n",
    "pca = PCA(n_components=15)\n",
    "X = pca.fit_transform(X)"
   ]
  },
  {
   "cell_type": "code",
   "execution_count": 38,
   "metadata": {},
   "outputs": [],
   "source": [
    "from sklearn.preprocessing import PolynomialFeatures\n",
    "\n",
    "poly = PolynomialFeatures(degree=3)\n",
    "X = poly.fit_transform(X)"
   ]
  },
  {
   "cell_type": "code",
   "execution_count": 39,
   "metadata": {},
   "outputs": [
    {
     "data": {
      "text/plain": [
       "(181507, 816)"
      ]
     },
     "execution_count": 39,
     "metadata": {},
     "output_type": "execute_result"
    }
   ],
   "source": [
    "X.shape"
   ]
  },
  {
   "cell_type": "code",
   "execution_count": 40,
   "metadata": {},
   "outputs": [],
   "source": [
    "df_test = pd.read_csv('test.csv')"
   ]
  },
  {
   "cell_type": "code",
   "execution_count": 41,
   "metadata": {},
   "outputs": [],
   "source": [
    "df_test = df_test.drop(['row ID'], axis=1)"
   ]
  },
  {
   "cell_type": "code",
   "execution_count": 42,
   "metadata": {},
   "outputs": [],
   "source": [
    "label_test = LabelEncoder()\n",
    "for col in object_cols:\n",
    "    df_test[col] = label_test.fit_transform(df_test[col].astype(str))\n"
   ]
  },
  {
   "cell_type": "code",
   "execution_count": 43,
   "metadata": {},
   "outputs": [],
   "source": [
    "df_test[num_cols] = scaler.transform(df_test[num_cols])"
   ]
  },
  {
   "cell_type": "code",
   "execution_count": 44,
   "metadata": {},
   "outputs": [
    {
     "data": {
      "text/plain": [
       "(77789, 271)"
      ]
     },
     "execution_count": 44,
     "metadata": {},
     "output_type": "execute_result"
    }
   ],
   "source": [
    "df_test.shape"
   ]
  },
  {
   "cell_type": "code",
   "execution_count": 45,
   "metadata": {},
   "outputs": [],
   "source": [
    "df_test = pca.transform(df_test)"
   ]
  },
  {
   "cell_type": "code",
   "execution_count": 46,
   "metadata": {},
   "outputs": [],
   "source": [
    "df_test = poly.transform(df_test)"
   ]
  },
  {
   "cell_type": "code",
   "execution_count": 47,
   "metadata": {},
   "outputs": [
    {
     "data": {
      "text/plain": [
       "(77789, 816)"
      ]
     },
     "execution_count": 47,
     "metadata": {},
     "output_type": "execute_result"
    }
   ],
   "source": [
    "df_test.shape"
   ]
  },
  {
   "cell_type": "code",
   "execution_count": 48,
   "metadata": {},
   "outputs": [],
   "source": [
    "#convert all int64 to float32\n",
    "X = X.astype('float32')\n",
    "df_test = df_test.astype('float32')"
   ]
  },
  {
   "cell_type": "code",
   "execution_count": 49,
   "metadata": {},
   "outputs": [],
   "source": [
    "import torch\n",
    "os.environ[\"KERAS_BACKEND\"] = \"torch\"\n",
    "from keras.models import Sequential\n",
    "from keras.layers import Dense, Dropout\n",
    "from keras.regularizers import l1, l2\n",
    "from keras.optimizers import RMSprop,Adam,Adamax\n",
    "from keras.callbacks import EarlyStopping"
   ]
  },
  {
   "cell_type": "code",
   "execution_count": 50,
   "metadata": {},
   "outputs": [
    {
     "name": "stdout",
     "output_type": "stream",
     "text": [
      "Model: \"sequential_1\"\n",
      "_________________________________________________________________\n",
      " Layer (type)                Output Shape              Param #   \n",
      "=================================================================\n",
      " dense_4 (Dense)             (None, 100)               81700     \n",
      "                                                                 \n",
      " leaky_re_lu (LeakyReLU)     (None, 100)               0         \n",
      "                                                                 \n"
     ]
    },
    {
     "name": "stdout",
     "output_type": "stream",
     "text": [
      " dropout_3 (Dropout)         (None, 100)               0         \n",
      "                                                                 \n",
      " dense_5 (Dense)             (None, 50)                5050      \n",
      "                                                                 \n",
      " leaky_re_lu_1 (LeakyReLU)   (None, 50)                0         \n",
      "                                                                 \n",
      " dropout_4 (Dropout)         (None, 50)                0         \n",
      "                                                                 \n",
      " dense_6 (Dense)             (None, 25)                1275      \n",
      "                                                                 \n",
      " leaky_re_lu_2 (LeakyReLU)   (None, 25)                0         \n",
      "                                                                 \n",
      " dropout_5 (Dropout)         (None, 25)                0         \n",
      "                                                                 \n",
      " dense_7 (Dense)             (None, 1)                 26        \n",
      "                                                                 \n",
      "=================================================================\n",
      "Total params: 88051 (343.95 KB)\n",
      "Trainable params: 88051 (343.95 KB)\n",
      "Non-trainable params: 0 (0.00 Byte)\n",
      "_________________________________________________________________\n",
      "None\n"
     ]
    }
   ],
   "source": [
    "# Model\n",
    "n_features = X.shape[1]\n",
    "model = Sequential()\n",
    "model.add(Dense(100, input_dim=n_features))\n",
    "model.add(LeakyReLU(alpha=0.01))\n",
    "model.add(Dropout(0.2))\n",
    "model.add(Dense(50))\n",
    "model.add(LeakyReLU(alpha=0.01))\n",
    "model.add(Dropout(0.2))\n",
    "model.add(Dense(25))\n",
    "model.add(LeakyReLU(alpha=0.01))\n",
    "model.add(Dropout(0.2))\n",
    "model.add(Dense(1, activation='linear'))\n",
    "model.compile(optimizer=Adamax(learning_rate=0.01), loss='mean_squared_error')\n",
    "\n",
    "# Print the model summary\n",
    "print(model.summary())\n"
   ]
  },
  {
   "cell_type": "code",
   "execution_count": 51,
   "metadata": {},
   "outputs": [
    {
     "name": "stdout",
     "output_type": "stream",
     "text": [
      "Epoch 1/100\n",
      "710/710 [==============================] - 5s 5ms/step - loss: 303371424628736.0000\n",
      "Epoch 2/100\n",
      "710/710 [==============================] - 4s 5ms/step - loss: 254299460337664.0000\n",
      "Epoch 3/100\n",
      "710/710 [==============================] - 4s 5ms/step - loss: 240470118629376.0000\n",
      "Epoch 4/100\n",
      "710/710 [==============================] - 4s 5ms/step - loss: 234729173417984.0000\n",
      "Epoch 5/100\n",
      "710/710 [==============================] - 4s 6ms/step - loss: 229247218089984.0000\n",
      "Epoch 6/100\n",
      "710/710 [==============================] - 4s 5ms/step - loss: 227247038398464.0000\n",
      "Epoch 7/100\n",
      "710/710 [==============================] - 4s 5ms/step - loss: 225443705782272.0000\n",
      "Epoch 8/100\n",
      "710/710 [==============================] - 4s 5ms/step - loss: 220853694365696.0000\n",
      "Epoch 9/100\n",
      "710/710 [==============================] - 4s 5ms/step - loss: 220324473864192.0000\n",
      "Epoch 10/100\n",
      "710/710 [==============================] - 4s 5ms/step - loss: 219292624748544.0000\n",
      "Epoch 11/100\n",
      "710/710 [==============================] - 4s 5ms/step - loss: 218425460785152.0000\n",
      "Epoch 12/100\n",
      "710/710 [==============================] - 4s 5ms/step - loss: 218239233687552.0000\n",
      "Epoch 13/100\n",
      "710/710 [==============================] - 3s 5ms/step - loss: 218500001955840.0000\n",
      "Epoch 14/100\n",
      "710/710 [==============================] - 3s 5ms/step - loss: 216157399285760.0000\n",
      "Epoch 15/100\n",
      "710/710 [==============================] - 4s 5ms/step - loss: 215211868946432.0000\n",
      "Epoch 16/100\n",
      "710/710 [==============================] - 3s 5ms/step - loss: 215111742521344.0000\n",
      "Epoch 17/100\n",
      "710/710 [==============================] - 3s 5ms/step - loss: 214024260157440.0000\n",
      "Epoch 18/100\n",
      "710/710 [==============================] - 3s 5ms/step - loss: 213315573776384.0000\n",
      "Epoch 19/100\n",
      "710/710 [==============================] - 3s 5ms/step - loss: 211406846689280.0000\n",
      "Epoch 20/100\n",
      "710/710 [==============================] - 4s 5ms/step - loss: 212960316227584.0000\n",
      "Epoch 21/100\n",
      "710/710 [==============================] - 3s 5ms/step - loss: 211744957923328.0000\n",
      "Epoch 22/100\n",
      "710/710 [==============================] - 3s 5ms/step - loss: 211731938803712.0000\n",
      "2431/2431 [==============================] - 3s 1ms/step\n"
     ]
    }
   ],
   "source": [
    "# Model training\n",
    "early_stopping = EarlyStopping(monitor='loss', patience=3, restore_best_weights=True)\n",
    "model.fit(X, y, epochs=100, batch_size=256, callbacks=[early_stopping])\n",
    "\n",
    "y_pred = model.predict(df_test)\n"
   ]
  },
  {
   "cell_type": "code",
   "execution_count": 52,
   "metadata": {},
   "outputs": [],
   "source": [
    "filepath = 'neural_29nov_3.csv'\n",
    "with open(filepath, mode='w', newline='') as file: \n",
    "    writer = csv.writer(file)\n",
    "    c=1\n",
    "    writer.writerow(['row ID', 'price_doc'])\n",
    "    for i in y_pred:\n",
    "        writer.writerow([c ,i[0]])\n",
    "        c=c+1"
   ]
  }
 ],
 "metadata": {
  "kernelspec": {
   "display_name": "Python 3",
   "language": "python",
   "name": "python3"
  },
  "language_info": {
   "codemirror_mode": {
    "name": "ipython",
    "version": 3
   },
   "file_extension": ".py",
   "mimetype": "text/x-python",
   "name": "python",
   "nbconvert_exporter": "python",
   "pygments_lexer": "ipython3",
   "version": "3.11.5"
  }
 },
 "nbformat": 4,
 "nbformat_minor": 2
}
