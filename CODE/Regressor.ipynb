{
 "cells": [
  {
   "cell_type": "code",
   "execution_count": 1,
   "metadata": {},
   "outputs": [],
   "source": [
    "# Import necessary libraries\n",
    "import numpy as np\n",
    "import pandas as pd\n",
    "from sklearn.model_selection import train_test_split\n",
    "from sklearn.metrics import mean_squared_error\n",
    "from sklearn.preprocessing import LabelEncoder\n",
    "from xgboost import XGBRegressor\n",
    "from lightgbm import LGBMRegressor\n",
    "from sklearn.feature_selection import SelectKBest,f_regression\n",
    "from sklearn.ensemble import RandomForestRegressor\n",
    "from catboost import CatBoostRegressor"
   ]
  },
  {
   "cell_type": "code",
   "execution_count": 2,
   "metadata": {},
   "outputs": [],
   "source": [
    "df = pd.read_csv('D:/UNI WORK/kaggle_2/train.csv')"
   ]
  },
  {
   "cell_type": "code",
   "execution_count": 3,
   "metadata": {},
   "outputs": [],
   "source": [
    "df.drop_duplicates(inplace=True)\n",
    "df = df.drop(columns=['sub_area'], axis=1)"
   ]
  },
  {
   "cell_type": "code",
   "execution_count": 4,
   "metadata": {},
   "outputs": [],
   "source": [
    "X = df.loc[:, df.columns != 'price_doc']\n",
    "y = df[['price_doc']]"
   ]
  },
  {
   "cell_type": "code",
   "execution_count": 5,
   "metadata": {},
   "outputs": [],
   "source": [
    "object_cols = X.select_dtypes(include=['object']).columns"
   ]
  },
  {
   "cell_type": "code",
   "execution_count": 6,
   "metadata": {},
   "outputs": [],
   "source": [
    "# label = LabelEncoder()\n",
    "# for col in object_cols:\n",
    "#     X[col] = label.fit_transform(X[col].astype(str))\n",
    "object_columns = X.select_dtypes(include=['object']).columns\n",
    "X = pd.get_dummies(X, columns=object_columns, drop_first=True)"
   ]
  },
  {
   "cell_type": "code",
   "execution_count": 7,
   "metadata": {},
   "outputs": [],
   "source": [
    "X=np.log1p(X)"
   ]
  },
  {
   "cell_type": "code",
   "execution_count": 8,
   "metadata": {},
   "outputs": [],
   "source": [
    "num_cols = X.select_dtypes(include=['int64','float64']).columns"
   ]
  },
  {
   "cell_type": "code",
   "execution_count": 9,
   "metadata": {},
   "outputs": [
    {
     "data": {
      "text/plain": [
       "(178661, 273)"
      ]
     },
     "execution_count": 9,
     "metadata": {},
     "output_type": "execute_result"
    }
   ],
   "source": [
    "from sklearn.preprocessing import StandardScaler,MinMaxScaler,RobustScaler\n",
    "\n",
    "scaler = RobustScaler()\n",
    "X[num_cols] = scaler.fit_transform(X[num_cols])\n",
    "X.shape"
   ]
  },
  {
   "cell_type": "code",
   "execution_count": 10,
   "metadata": {},
   "outputs": [],
   "source": [
    "# from sklearn.decomposition import PCA\n",
    "# pca = PCA(n_components=50)\n",
    "# X = pca.fit_transform(X)\n",
    "\n",
    "\n",
    "# skb = SelectKBest(f_regression, k=25)\n",
    "# X = skb.fit_transform(X, y)\n",
    "# X.shape"
   ]
  },
  {
   "cell_type": "code",
   "execution_count": 11,
   "metadata": {},
   "outputs": [],
   "source": [
    "# X = X[['full_sq', 'life_sq', 'floor', 'school_education_centers_top_20_raion',\n",
    "#        '16_29_female', 'build_count_monolith', 'industrial_km',\n",
    "#        'church_synagogue_km', 'prom_part_500', 'trc_sqm_500',\n",
    "#        'cafe_count_500_price_1000', 'cafe_count_500_price_high',\n",
    "#        'mosque_count_500', 'leisure_count_500', 'green_part_1000',\n",
    "#        'office_sqm_1000', 'cafe_count_1000_price_high', 'mosque_count_1000',\n",
    "#        'leisure_count_1000', 'market_count_1000', 'trc_sqm_2000',\n",
    "#        'sport_count_2000', 'incineration_raion_yes',\n",
    "#        'nuclear_reactor_raion_yes', 'big_road1_1line_yes']]\n"
   ]
  },
  {
   "cell_type": "code",
   "execution_count": 12,
   "metadata": {},
   "outputs": [],
   "source": [
    "df_test = pd.read_csv('D:/UNI WORK/kaggle_2/test.csv')"
   ]
  },
  {
   "cell_type": "code",
   "execution_count": 13,
   "metadata": {},
   "outputs": [],
   "source": [
    "df_test = df_test.drop(['row ID'], axis=1)\n",
    "df_test = df_test.drop(columns=['sub_area'], axis=1)"
   ]
  },
  {
   "cell_type": "code",
   "execution_count": 14,
   "metadata": {},
   "outputs": [],
   "source": [
    "# label_test = LabelEncoder()\n",
    "# for col in object_cols:\n",
    "#     df_test[col] = label_test.fit_transform(df_test[col].astype(str))\n",
    "object_columns = df_test.select_dtypes(include=['object']).columns\n",
    "df_test = pd.get_dummies(df_test, columns=object_columns, drop_first=True)"
   ]
  },
  {
   "cell_type": "code",
   "execution_count": 15,
   "metadata": {},
   "outputs": [],
   "source": [
    "df_test=np.log1p(df_test)"
   ]
  },
  {
   "cell_type": "code",
   "execution_count": 16,
   "metadata": {},
   "outputs": [],
   "source": [
    "df_test[num_cols] = scaler.transform(df_test[num_cols])\n"
   ]
  },
  {
   "cell_type": "code",
   "execution_count": null,
   "metadata": {},
   "outputs": [],
   "source": []
  },
  {
   "cell_type": "code",
   "execution_count": 17,
   "metadata": {},
   "outputs": [],
   "source": [
    "# df_test = pca.transform(df_test)"
   ]
  },
  {
   "cell_type": "code",
   "execution_count": 18,
   "metadata": {},
   "outputs": [],
   "source": [
    "# df_test = skb.transform(df_test)"
   ]
  },
  {
   "cell_type": "code",
   "execution_count": 19,
   "metadata": {},
   "outputs": [],
   "source": [
    "\n",
    "# df_test = df_test[['full_sq', 'life_sq', 'floor', 'school_education_centers_top_20_raion',\n",
    "#        '16_29_female', 'build_count_monolith', 'industrial_km',\n",
    "#        'church_synagogue_km', 'prom_part_500', 'trc_sqm_500',\n",
    "#        'cafe_count_500_price_1000', 'cafe_count_500_price_high',\n",
    "#        'mosque_count_500', 'leisure_count_500', 'green_part_1000',\n",
    "#        'office_sqm_1000', 'cafe_count_1000_price_high', 'mosque_count_1000',\n",
    "#        'leisure_count_1000', 'market_count_1000', 'trc_sqm_2000',\n",
    "#        'sport_count_2000', 'incineration_raion_yes',\n",
    "#        'nuclear_reactor_raion_yes', 'big_road1_1line_yes']]"
   ]
  },
  {
   "cell_type": "code",
   "execution_count": 20,
   "metadata": {},
   "outputs": [
    {
     "data": {
      "text/plain": [
       "(178661, 273)"
      ]
     },
     "execution_count": 20,
     "metadata": {},
     "output_type": "execute_result"
    }
   ],
   "source": [
    "X.shape"
   ]
  },
  {
   "cell_type": "code",
   "execution_count": 21,
   "metadata": {},
   "outputs": [],
   "source": [
    "X_train, X_test, y_train, y_test = train_test_split(X, y, test_size=0.2, random_state=42)"
   ]
  },
  {
   "cell_type": "code",
   "execution_count": 31,
   "metadata": {},
   "outputs": [
    {
     "name": "stderr",
     "output_type": "stream",
     "text": [
      "\n",
      "KeyboardInterrupt\n",
      "\n"
     ]
    }
   ],
   "source": [
    "# Create an XGBRegressor model\n",
    "model = XGBRegressor(\n",
    "    objective='reg:squarederror',  # Specify regression as the objective\n",
    "    n_estimators=1000,  # Number of boosting rounds\n",
    "    learning_rate=0.1,  # Step size shrinkage\n",
    "    max_depth=6,\n",
    "     n_jobs=-1,\n",
    "      early_stopping_rounds=3,\n",
    "     subsample=0.7, colsample_bytree=0.8 # Maximum depth of a tree\n",
    ")\n",
    "# model = LGBMRegressor(\n",
    "#     objective='regression',\n",
    "#     metric='rmse',\n",
    "#     num_leaves=215,\n",
    "#     learning_rate=0.1,\n",
    "#     feature_fraction=0.9,n_estimators=215  ,max_depth=12 \n",
    "    \n",
    "# )\n",
    "# model = RandomForestRegressor(\n",
    "#     n_estimators=100,  # Number of trees in the forest\n",
    "#     max_depth=10,     # Maximum depth of the tree\n",
    "#     random_state=42 ,n_jobs=-1,verbose=2,warm_start=True\n",
    "# )\n",
    "# model =  CatBoostRegressor(iterations=1000, \n",
    "#                            depth=8, learning_rate=0.05,\n",
    "#                              loss_function='RMSE')\n",
    "\n",
    "\n",
    "# Fit the model to the training data\n",
    "model.fit(X, y)"
   ]
  },
  {
   "cell_type": "code",
   "execution_count": 29,
   "metadata": {},
   "outputs": [],
   "source": [
    "y_pred = model.predict(df_test)"
   ]
  },
  {
   "cell_type": "code",
   "execution_count": 24,
   "metadata": {},
   "outputs": [],
   "source": [
    "# rmse = np.sqrt(mean_squared_error(y_test, y_pred))\n",
    "# print(f'Root Mean Squared Error (RMSE): {rmse}')"
   ]
  },
  {
   "cell_type": "code",
   "execution_count": 30,
   "metadata": {},
   "outputs": [],
   "source": [
    "df = pd.DataFrame(y_pred)\n",
    "custom_starting_index = 1\n",
    "df.insert(0, 'RecordID', range(custom_starting_index, custom_starting_index + len(df)))\n",
    "\n",
    "custom_column_names = ['row ID', 'price_doc']\n",
    "csv_file_path = 'XgboostRegressor.csv'\n",
    "\n",
    "df.to_csv(csv_file_path, index=False, header=custom_column_names)"
   ]
  }
 ],
 "metadata": {
  "kernelspec": {
   "display_name": "Python 3",
   "language": "python",
   "name": "python3"
  },
  "language_info": {
   "codemirror_mode": {
    "name": "ipython",
    "version": 3
   },
   "file_extension": ".py",
   "mimetype": "text/x-python",
   "name": "python",
   "nbconvert_exporter": "python",
   "pygments_lexer": "ipython3",
   "version": "3.11.5"
  }
 },
 "nbformat": 4,
 "nbformat_minor": 2
}
