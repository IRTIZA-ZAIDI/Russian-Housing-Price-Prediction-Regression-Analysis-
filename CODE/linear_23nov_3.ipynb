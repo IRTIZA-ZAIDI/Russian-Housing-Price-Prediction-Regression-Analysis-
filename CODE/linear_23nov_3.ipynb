{
 "cells": [
  {
   "cell_type": "code",
   "execution_count": 28,
   "metadata": {},
   "outputs": [],
   "source": [
    "# Use SelectKBest for feature selection\n",
    "# k_best_features = 30  \n",
    "# select_k_best = SelectKBest(f_regression, k=k_best_features)\n",
    "# X_selected = select_k_best.fit_transform(X, y)\n",
    "# Use forward selection for feature selection\n",
    "# k_best_features = 30\n",
    "# forward_selector = SequentialFeatureSelector(LinearRegression(), k_features=k_best_features, forward=True, scoring='neg_mean_squared_error', cv=5)\n",
    "# X_selected = forward_selector.fit_transform(X, y)\n",
    "# Use statsmodels to perform OLS regression and get p-values\n",
    "\n",
    "\n"
   ]
  },
  {
   "cell_type": "code",
   "execution_count": null,
   "metadata": {},
   "outputs": [],
   "source": [
    "import pandas as pd\n",
    "from sklearn.linear_model import LinearRegression\n",
    "from sklearn.preprocessing import PolynomialFeatures, StandardScaler\n",
    "from mlxtend.feature_selection import SequentialFeatureSelector\n",
    "import csv\n",
    "\n",
    "# Load the training data\n",
    "df = pd.read_csv('train.csv')\n",
    "\n",
    "# Handle 'sub_area' column\n",
    "category = df['sub_area'].value_counts()\n",
    "others_col = category[category < 1000].index.tolist()\n",
    "df['sub_area'] = df['sub_area'].replace(others_col, 'others')\n",
    "\n",
    "# Perform dummy encoding\n",
    "df = pd.get_dummies(df, drop_first=True)\n",
    "\n",
    "# Separate features (X) and target variable (y)\n",
    "X = df.drop(['price_doc'], axis=1)\n",
    "y = df['price_doc']\n",
    "\n",
    "# Standardize the features\n",
    "scaler = StandardScaler()\n",
    "X = scaler.fit_transform(X)"
   ]
  },
  {
   "cell_type": "code",
   "execution_count": null,
   "metadata": {},
   "outputs": [],
   "source": [
    "\n",
    "\n",
    "# Use forward selection for feature selection\n",
    "k_best_features = 25  # Set the number of features to select\n",
    "forward_selector = SequentialFeatureSelector(LinearRegression(), k_features=k_best_features, forward=True, scoring='neg_mean_squared_error', cv=5)\n",
    "X_selected = forward_selector.fit_transform(X, y)\n",
    "\n",
    "# Use PolynomialFeatures to create polynomial features\n",
    "degree = 2\n",
    "poly = PolynomialFeatures(degree=degree)\n",
    "X_poly = poly.fit_transform(X_selected)\n",
    "\n",
    "# Fit a linear regression model on the polynomial features\n",
    "reg = LinearRegression().fit(X_poly, y)\n",
    "\n",
    "\n",
    "\n"
   ]
  },
  {
   "cell_type": "code",
   "execution_count": null,
   "metadata": {},
   "outputs": [],
   "source": [
    "# Load the test data\n",
    "df_test = pd.read_csv('test.csv')\n",
    "\n",
    "# Drop unnecessary column from the test set\n",
    "df_test = df_test.drop(['row ID'], axis=1)\n",
    "\n",
    "# Handle 'sub_area' column in the test set\n",
    "df_test['sub_area'] = df_test['sub_area'].replace(others_col, 'others')\n",
    "\n",
    "# Perform dummy encoding for the test set\n",
    "df_test = pd.get_dummies(df_test, drop_first=True)\n",
    "\n",
    "# Standardize the test set features\n",
    "df_test = scaler.transform(df_test)\n",
    "\n",
    "# Extract the selected features for the test set using forward selection\n",
    "X_test_selected = forward_selector.transform(df_test)\n",
    "\n",
    "# Use PolynomialFeatures to create polynomial features for the test set\n",
    "df_test_poly = poly.transform(X_test_selected)\n"
   ]
  },
  {
   "cell_type": "code",
   "execution_count": null,
   "metadata": {},
   "outputs": [],
   "source": [
    "# Predict on the test set using the polynomial features\n",
    "y_pred_test = reg.predict(df_test_poly)\n",
    "\n",
    "# Save the predictions to a CSV file\n",
    "filepath = 'prediction_forward_selection_poly.csv'\n",
    "with open(filepath, mode='w', newline='') as file:\n",
    "    writer = csv.writer(file)\n",
    "    writer.writerow(['row ID', 'price_doc'])  # Add column headers\n",
    "    for c, i in enumerate(y_pred_test, start=1):\n",
    "        writer.writerow([c, i])"
   ]
  }
 ],
 "metadata": {
  "kernelspec": {
   "display_name": "Python 3",
   "language": "python",
   "name": "python3"
  },
  "language_info": {
   "codemirror_mode": {
    "name": "ipython",
    "version": 3
   },
   "file_extension": ".py",
   "mimetype": "text/x-python",
   "name": "python",
   "nbconvert_exporter": "python",
   "pygments_lexer": "ipython3",
   "version": "3.12.0"
  }
 },
 "nbformat": 4,
 "nbformat_minor": 2
}
