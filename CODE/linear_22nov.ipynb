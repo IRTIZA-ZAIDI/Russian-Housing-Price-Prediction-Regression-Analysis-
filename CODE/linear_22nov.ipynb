{
 "cells": [
  {
   "cell_type": "code",
   "execution_count": 52,
   "metadata": {},
   "outputs": [],
   "source": [
    "import pandas as pd\n",
    "from sklearn.linear_model import LinearRegression\n",
    "from sklearn.model_selection import train_test_split\n",
    "from sklearn.metrics import mean_squared_error\n",
    "import csv\n",
    "\n",
    "df = pd.read_csv('train.csv') \n",
    "object_columns = df.select_dtypes(include=['object']).columns\n",
    "\n",
    "# Use get_dummies for one-hot encoding\n",
    "df = pd.get_dummies(df, columns=object_columns, drop_first=True)\n",
    "\n",
    "X = df.drop('price_doc', axis=1)\n",
    "y = df['price_doc']"
   ]
  },
  {
   "cell_type": "code",
   "execution_count": 53,
   "metadata": {},
   "outputs": [],
   "source": [
    "df_test = pd.read_csv('test.csv')\n",
    "# Apply the same one-hot encoding to the test set\n",
    "df_test = pd.get_dummies(df_test, columns=object_columns, drop_first=True)\n",
    "\n",
    "df_test = df_test.drop(['row ID'], axis=1)\n",
    "\n",
    "# Make sure the columns in the test set match the columns in the training set\n",
    "df_test = df_test.reindex(columns=X.columns, fill_value=0)\n",
    "\n",
    "reg = LinearRegression().fit(X, y)"
   ]
  },
  {
   "cell_type": "code",
   "execution_count": 54,
   "metadata": {},
   "outputs": [
    {
     "data": {
      "text/plain": [
       "Index(['sub_area_Poselenie Krasonpahorskoe', 'sub_area_Poselenie ePrvomajskoe',\n",
       "       'sub_area_Poselenie Vosrkesenskoe', 'sub_area_Tropaervo-Nikulino',\n",
       "       'sub_area_Vsotochnoe Degunino', 'sub_area_Severnoe Tushnio',\n",
       "       'sub_area_Poselenie Vnkuovskoe', 'sub_area_Poeslenie Filimonkovskoe',\n",
       "       'sub_area_Birjulveo Vostochnoe', 'sub_area_Chertanoov Severnoe',\n",
       "       'sub_area_Zjablkiovo', 'sub_area_Poselenie Filiomnkovskoe',\n",
       "       'sub_area_Poselenei Novofedorovskoe', 'sub_area_Psoelenie Desjonovskoe',\n",
       "       'sub_area_Prospekt Vernadskoog', 'sub_area_Zapadnoe Degunion',\n",
       "       'sub_area_Poeslenie Klenovskoe', 'sub_area_Jraoslavskoe',\n",
       "       'sub_area_Poselenie Pevromajskoe', 'sub_area_Poseleni eVoronovskoe'],\n",
       "      dtype='object')"
      ]
     },
     "execution_count": 54,
     "metadata": {},
     "output_type": "execute_result"
    }
   ],
   "source": [
    "# Get feature importances\n",
    "feature_importances = reg.coef_\n",
    "\n",
    "# Get the column names of the top 20 features\n",
    "top_20_columns = X.columns[feature_importances.argsort()[-20:][::-1]]\n",
    "top_20_columns"
   ]
  },
  {
   "cell_type": "code",
   "execution_count": 55,
   "metadata": {},
   "outputs": [],
   "source": [
    "# Select the top 20 features for both the training and test sets\n",
    "X_top_20 = X[top_20_columns]\n",
    "df_test_top_20 = df_test[top_20_columns]\n",
    "\n"
   ]
  },
  {
   "cell_type": "code",
   "execution_count": 56,
   "metadata": {},
   "outputs": [],
   "source": [
    "# Train the model on the top 20 features\n",
    "reg_top_20 = LinearRegression().fit(X_top_20, y)\n",
    "y_pred_test_top_20 = reg_top_20.predict(df_test_top_20)"
   ]
  },
  {
   "cell_type": "code",
   "execution_count": 57,
   "metadata": {},
   "outputs": [],
   "source": [
    "filepath = 'prediction_top_20_features.csv'\n",
    "with open(filepath, mode='w', newline='') as file:\n",
    "    writer = csv.writer(file)\n",
    "    writer.writerow(['row ID', 'price_doc'])  # Add column headers\n",
    "    for c, i in enumerate(y_pred_test_top_20, start=1):\n",
    "        writer.writerow([c, i])"
   ]
  }
 ],
 "metadata": {
  "kernelspec": {
   "display_name": "Python 3",
   "language": "python",
   "name": "python3"
  },
  "language_info": {
   "codemirror_mode": {
    "name": "ipython",
    "version": 3
   },
   "file_extension": ".py",
   "mimetype": "text/x-python",
   "name": "python",
   "nbconvert_exporter": "python",
   "pygments_lexer": "ipython3",
   "version": "3.12.0"
  }
 },
 "nbformat": 4,
 "nbformat_minor": 2
}
