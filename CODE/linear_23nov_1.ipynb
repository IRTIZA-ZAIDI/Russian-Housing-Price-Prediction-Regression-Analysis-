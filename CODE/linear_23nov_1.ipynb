{
 "cells": [
  {
   "cell_type": "code",
   "execution_count": 11,
   "metadata": {},
   "outputs": [],
   "source": [
    "import pandas as pd\n",
    "import statsmodels.api as sm\n",
    "from sklearn.linear_model import LinearRegression\n",
    "from sklearn.model_selection import train_test_split\n",
    "from sklearn.preprocessing import PolynomialFeatures\n",
    "import csv\n",
    "\n",
    "# Load the training data\n",
    "df = pd.read_csv('train.csv')\n",
    "\n",
    "# Encode categorical columns\n",
    "object_columns = df.select_dtypes(include=['object']).columns\n",
    "from sklearn.preprocessing import LabelEncoder\n",
    "\n",
    "le = LabelEncoder()\n",
    "for col in object_columns:\n",
    "    df[col] = le.fit_transform(df[col])\n",
    "\n",
    "# Separate features (X) and target variable (y)\n",
    "X = df.drop(['price_doc'], axis=1)\n",
    "y = df['price_doc']\n",
    "\n",
    "# Load the test data\n",
    "df_test = pd.read_csv('test.csv')\n",
    "\n",
    "# Encode categorical columns in the test set\n",
    "for col in object_columns:\n",
    "    df_test[col] = le.fit_transform(df_test[col])\n",
    "\n",
    "# Drop unnecessary column from the test set\n",
    "df_test = df_test.drop(['row ID'], axis=1)\n",
    "\n",
    "# Use statsmodels to perform OLS regression and get p-values\n",
    "X_ols = sm.add_constant(X)  # Add a constant term for the intercept\n",
    "ols_model = sm.OLS(y, X_ols).fit()\n",
    "\n",
    "# Get p-values for each feature\n",
    "p_values = ols_model.pvalues[1:]  # Exclude the constant term\n",
    "\n",
    "# Select the top 100 features based on p-values\n",
    "selected_features = list(p_values.sort_values().head(100).index)\n"
   ]
  },
  {
   "cell_type": "code",
   "execution_count": 12,
   "metadata": {},
   "outputs": [],
   "source": [
    "\n",
    "# Load the test data\n",
    "df_test = pd.read_csv('test.csv')\n",
    "\n",
    "# Encode categorical columns in the test set\n",
    "for col in object_columns:\n",
    "    df_test[col] = le.fit_transform(df_test[col])\n",
    "\n",
    "# Drop unnecessary column from the test set\n",
    "df_test = df_test.drop(['row ID'], axis=1)\n",
    "\n",
    "# Use statsmodels to perform OLS regression and get p-values\n",
    "X_ols = sm.add_constant(X)  # Add a constant term for the intercept\n",
    "ols_model = sm.OLS(y, X_ols).fit()\n",
    "\n",
    "# Get p-values for each feature\n",
    "p_values = ols_model.pvalues[1:]  # Exclude the constant term\n",
    "\n",
    "# Select the top 100 features based on p-values\n",
    "selected_features = list(p_values.sort_values().head(30).index)\n"
   ]
  },
  {
   "cell_type": "code",
   "execution_count": 13,
   "metadata": {},
   "outputs": [],
   "source": [
    "\n",
    "# Extract the selected features\n",
    "X_selected = X[selected_features]\n",
    "df_test_selected = df_test[selected_features]\n",
    "\n",
    "# Use PolynomialFeatures to create polynomial features\n",
    "degree = 2\n",
    "poly = PolynomialFeatures(degree=degree)\n",
    "X_poly = poly.fit_transform(X_selected)\n",
    "df_test_poly = poly.transform(df_test_selected)\n"
   ]
  },
  {
   "cell_type": "code",
   "execution_count": 14,
   "metadata": {},
   "outputs": [],
   "source": [
    "# Fit a linear regression model on the polynomial features\n",
    "reg = LinearRegression().fit(X_poly, y)\n",
    "\n",
    "# Predict on the test set using the polynomial features\n",
    "y_pred_test = reg.predict(df_test_poly)"
   ]
  },
  {
   "cell_type": "code",
   "execution_count": 15,
   "metadata": {},
   "outputs": [],
   "source": [
    "# Save the predictions to a CSV file\n",
    "filepath = 'prediction_pvalue_filter.csv'\n",
    "with open(filepath, mode='w', newline='') as file:\n",
    "    writer = csv.writer(file)\n",
    "    writer.writerow(['row ID', 'price_doc'])  # Add column headers\n",
    "    for c, i in enumerate(y_pred_test, start=1):\n",
    "        writer.writerow([c, i])"
   ]
  }
 ],
 "metadata": {
  "kernelspec": {
   "display_name": "Python 3",
   "language": "python",
   "name": "python3"
  },
  "language_info": {
   "codemirror_mode": {
    "name": "ipython",
    "version": 3
   },
   "file_extension": ".py",
   "mimetype": "text/x-python",
   "name": "python",
   "nbconvert_exporter": "python",
   "pygments_lexer": "ipython3",
   "version": "3.12.0"
  }
 },
 "nbformat": 4,
 "nbformat_minor": 2
}
