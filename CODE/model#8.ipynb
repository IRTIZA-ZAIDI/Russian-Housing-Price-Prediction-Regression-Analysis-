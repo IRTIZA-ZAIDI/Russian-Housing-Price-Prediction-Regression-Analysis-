{
 "cells": [
  {
   "cell_type": "code",
   "execution_count": 20,
   "metadata": {},
   "outputs": [],
   "source": [
    "import pandas as pd\n",
    "from sklearn.calibration import LabelEncoder\n",
    "from sklearn.impute import SimpleImputer\n",
    "from sklearn.metrics import mean_squared_error\n",
    "from sklearn.model_selection import train_test_split\n",
    "from sklearn.preprocessing import MinMaxScaler,RobustScaler\n",
    "from keras.models import Sequential\n",
    "from keras.layers import Dense, Dropout\n",
    "from keras.optimizers import Adam"
   ]
  },
  {
   "cell_type": "code",
   "execution_count": 21,
   "metadata": {},
   "outputs": [],
   "source": [
    "df1 = pd.read_csv(\"train.csv\")\n",
    "df2 = pd.read_csv(\"test.csv\")"
   ]
  },
  {
   "cell_type": "code",
   "execution_count": 22,
   "metadata": {},
   "outputs": [],
   "source": [
    "df1 = df1.drop(columns=['sub_area'])\n",
    "df2 = df2.drop(columns=['sub_area','row ID'])"
   ]
  },
  {
   "cell_type": "code",
   "execution_count": 23,
   "metadata": {},
   "outputs": [],
   "source": [
    "df1_encoded = pd.get_dummies(df1)\n",
    "df2_encoded = pd.get_dummies(df2)"
   ]
  },
  {
   "cell_type": "code",
   "execution_count": 24,
   "metadata": {},
   "outputs": [
    {
     "name": "stdout",
     "output_type": "stream",
     "text": [
      "(181507, 117)\n"
     ]
    }
   ],
   "source": [
    "df1_encoded = df1_encoded.drop(columns=['area_m', 'raion_popul', 'green_zone_part', 'indust_part', 'children_preschool', 'preschool_education_centers_raion', 'children_school', 'school_education_centers_raion', 'healthcare_centers_raion', 'sport_objects_raion', 'additional_education_raion', 'shopping_centers_raion', 'full_all', 'male_f', 'female_f', 'young_all', 'young_male', 'young_female', 'work_all', 'work_male', 'work_female', 'ekder_all', 'ekder_male', 'ekder_female', '0_6_all', '0_6_male', '0_6_female', '7_14_all', '7_14_male', '7_14_female', '0_17_all', '0_17_male', '0_17_female', '16_29_all', '16_29_male', '16_29_female', '0_13_all', '0_13_male', '0_13_female', 'raion_build_count_with_material_info', 'build_count_block', 'build_count_wood', 'build_count_frame', 'build_count_brick', 'build_count_panel', 'build_count_mix', 'raion_build_count_with_builddate_info', 'build_count_1921-1945', 'build_count_1946-1970', 'build_count_1971-1995', 'ID_metro', 'metro_min_avto', 'metro_km_avto', 'metro_min_walk', 'metro_km_walk', 'park_km', 'green_zone_km', 'water_treatment_km', 'cemetery_km', 'incineration_km', 'railroad_station_walk_km', 'railroad_station_walk_min', 'ID_railroad_station_walk', 'railroad_station_avto_km', 'railroad_station_avto_min', 'ID_railroad_station_avto', 'water_km', 'mkad_km', 'ttk_km', 'sadovoe_km', 'bulvar_ring_km', 'kremlin_km', 'big_road1_km', 'ID_big_road1', 'big_road2_km', 'ID_big_road2', 'railroad_km', 'zd_vokzaly_avto_km', 'ID_railroad_terminal', 'bus_terminal_avto_km', 'ID_bus_terminal', 'oil_chemistry_km', 'nuclear_reactor_km', 'radiation_km', 'power_transmission_line_km', 'thermal_power_plant_km', 'ts_km', 'big_market_km', 'market_shop_km', 'swim_pool_km', 'ice_rink_km', 'stadium_km', 'basketball_km', 'hospice_morgue_km', 'detention_facility_km', 'university_km', 'workplaces_km', 'shopping_centers_km', 'office_km', 'mosque_km', 'theater_km', 'museum_km', 'exhibition_km', 'catering_km', 'green_part_500', 'green_part_1000', 'prom_part_1000', 'green_part_1500', 'prom_part_1500', 'sport_count_1500', 'market_count_1500', 'green_part_2000', 'prom_part_2000', 'trc_count_2000', 'cafe_sum_2000_min_price_avg', 'cafe_sum_2000_max_price_avg', 'cafe_avg_price_2000', 'mosque_count_2000', 'sport_count_2000', 'market_count_2000', 'green_part_3000', 'prom_part_3000', 'office_sqm_3000', 'trc_count_3000', 'trc_sqm_3000', 'cafe_sum_3000_min_price_avg', 'cafe_sum_3000_max_price_avg', 'cafe_avg_price_3000', 'mosque_count_3000', 'sport_count_3000', 'market_count_3000', 'green_part_5000', 'prom_part_5000', 'office_count_5000', 'office_sqm_5000', 'trc_count_5000', 'trc_sqm_5000', 'cafe_count_5000', 'cafe_sum_5000_min_price_avg', 'cafe_sum_5000_max_price_avg', 'cafe_avg_price_5000', 'cafe_count_5000_na_price', 'cafe_count_5000_price_500', 'cafe_count_5000_price_1000', 'cafe_count_5000_price_1500', 'cafe_count_5000_price_2500', 'cafe_count_5000_price_4000', 'cafe_count_5000_price_high', 'big_church_count_5000', 'church_count_5000', 'mosque_count_5000', 'leisure_count_5000', 'sport_count_5000', 'market_count_5000', 'product_type_OwnerOccupier', 'culture_objects_top_25_yes', 'thermal_power_plant_raion_yes', 'incineration_raion_yes', 'oil_chemistry_raion_yes', 'radiation_raion_yes', 'railroad_terminal_raion_yes', 'big_market_raion_yes', 'nuclear_reactor_raion_yes', 'detention_facility_raion_yes', 'water_1line_yes', 'big_road1_1line_yes', 'railroad_1line_yes', 'ecology_good', 'ecology_no data', 'ecology_poor', 'ecology_satisfactory'],axis=1)\n",
    "df2_encoded = df2_encoded.drop(columns=['area_m', 'raion_popul', 'green_zone_part', 'indust_part', 'children_preschool', 'preschool_education_centers_raion', 'children_school', 'school_education_centers_raion', 'healthcare_centers_raion', 'sport_objects_raion', 'additional_education_raion', 'shopping_centers_raion', 'full_all', 'male_f', 'female_f', 'young_all', 'young_male', 'young_female', 'work_all', 'work_male', 'work_female', 'ekder_all', 'ekder_male', 'ekder_female', '0_6_all', '0_6_male', '0_6_female', '7_14_all', '7_14_male', '7_14_female', '0_17_all', '0_17_male', '0_17_female', '16_29_all', '16_29_male', '16_29_female', '0_13_all', '0_13_male', '0_13_female', 'raion_build_count_with_material_info', 'build_count_block', 'build_count_wood', 'build_count_frame', 'build_count_brick', 'build_count_panel', 'build_count_mix', 'raion_build_count_with_builddate_info', 'build_count_1921-1945', 'build_count_1946-1970', 'build_count_1971-1995', 'ID_metro', 'metro_min_avto', 'metro_km_avto', 'metro_min_walk', 'metro_km_walk', 'park_km', 'green_zone_km', 'water_treatment_km', 'cemetery_km', 'incineration_km', 'railroad_station_walk_km', 'railroad_station_walk_min', 'ID_railroad_station_walk', 'railroad_station_avto_km', 'railroad_station_avto_min', 'ID_railroad_station_avto', 'water_km', 'mkad_km', 'ttk_km', 'sadovoe_km', 'bulvar_ring_km', 'kremlin_km', 'big_road1_km', 'ID_big_road1', 'big_road2_km', 'ID_big_road2', 'railroad_km', 'zd_vokzaly_avto_km', 'ID_railroad_terminal', 'bus_terminal_avto_km', 'ID_bus_terminal', 'oil_chemistry_km', 'nuclear_reactor_km', 'radiation_km', 'power_transmission_line_km', 'thermal_power_plant_km', 'ts_km', 'big_market_km', 'market_shop_km', 'swim_pool_km', 'ice_rink_km', 'stadium_km', 'basketball_km', 'hospice_morgue_km', 'detention_facility_km', 'university_km', 'workplaces_km', 'shopping_centers_km', 'office_km', 'mosque_km', 'theater_km', 'museum_km', 'exhibition_km', 'catering_km', 'green_part_500', 'green_part_1000', 'prom_part_1000', 'green_part_1500', 'prom_part_1500', 'sport_count_1500', 'market_count_1500', 'green_part_2000', 'prom_part_2000', 'trc_count_2000', 'cafe_sum_2000_min_price_avg', 'cafe_sum_2000_max_price_avg', 'cafe_avg_price_2000', 'mosque_count_2000', 'sport_count_2000', 'market_count_2000', 'green_part_3000', 'prom_part_3000', 'office_sqm_3000', 'trc_count_3000', 'trc_sqm_3000', 'cafe_sum_3000_min_price_avg', 'cafe_sum_3000_max_price_avg', 'cafe_avg_price_3000', 'mosque_count_3000', 'sport_count_3000', 'market_count_3000', 'green_part_5000', 'prom_part_5000', 'office_count_5000', 'office_sqm_5000', 'trc_count_5000', 'trc_sqm_5000', 'cafe_count_5000', 'cafe_sum_5000_min_price_avg', 'cafe_sum_5000_max_price_avg', 'cafe_avg_price_5000', 'cafe_count_5000_na_price', 'cafe_count_5000_price_500', 'cafe_count_5000_price_1000', 'cafe_count_5000_price_1500', 'cafe_count_5000_price_2500', 'cafe_count_5000_price_4000', 'cafe_count_5000_price_high', 'big_church_count_5000', 'church_count_5000', 'mosque_count_5000', 'leisure_count_5000', 'sport_count_5000', 'market_count_5000', 'product_type_OwnerOccupier', 'culture_objects_top_25_yes', 'thermal_power_plant_raion_yes', 'incineration_raion_yes', 'oil_chemistry_raion_yes', 'radiation_raion_yes', 'railroad_terminal_raion_yes', 'big_market_raion_yes', 'nuclear_reactor_raion_yes', 'detention_facility_raion_yes', 'water_1line_yes', 'big_road1_1line_yes', 'railroad_1line_yes', 'ecology_good', 'ecology_no data', 'ecology_poor', 'ecology_satisfactory'],axis=1)\n",
    "print(df1_encoded.shape)"
   ]
  },
  {
   "cell_type": "code",
   "execution_count": 25,
   "metadata": {},
   "outputs": [],
   "source": [
    "X = df1_encoded.drop(columns=['price_doc',],axis=1)\n",
    "y = df1_encoded['price_doc']\n"
   ]
  },
  {
   "cell_type": "code",
   "execution_count": 26,
   "metadata": {},
   "outputs": [
    {
     "data": {
      "text/plain": [
       "(181507, 116)"
      ]
     },
     "execution_count": 26,
     "metadata": {},
     "output_type": "execute_result"
    }
   ],
   "source": [
    "X.shape"
   ]
  },
  {
   "cell_type": "code",
   "execution_count": 27,
   "metadata": {},
   "outputs": [],
   "source": [
    "# imputer = SimpleImputer(strategy='mean')\n",
    "# X = imputer.fit_transform(X)\n",
    "# df2_encoded = imputer.fit_transform(df2_encoded)"
   ]
  },
  {
   "cell_type": "code",
   "execution_count": 28,
   "metadata": {},
   "outputs": [],
   "source": [
    "scaler = RobustScaler()\n",
    "X_scaled = scaler.fit_transform(X)\n",
    "df2_encoded_scaled = scaler.fit_transform(df2_encoded)"
   ]
  },
  {
   "cell_type": "code",
   "execution_count": 29,
   "metadata": {},
   "outputs": [],
   "source": [
    "X_scaled = X_scaled.astype('float32')\n",
    "df2_encoded_scaled = df2_encoded_scaled.astype('float32')"
   ]
  },
  {
   "cell_type": "code",
   "execution_count": 30,
   "metadata": {},
   "outputs": [
    {
     "name": "stdout",
     "output_type": "stream",
     "text": [
      "Model: \"sequential_3\"\n",
      "_________________________________________________________________\n",
      " Layer (type)                Output Shape              Param #   \n",
      "=================================================================\n",
      " dense_21 (Dense)            (None, 100)               11700     \n",
      "                                                                 \n",
      " dense_22 (Dense)            (None, 75)                7575      \n",
      "                                                                 \n",
      " dense_23 (Dense)            (None, 50)                3800      \n",
      "                                                                 \n",
      " dense_24 (Dense)            (None, 50)                2550      \n",
      "                                                                 \n",
      " dense_25 (Dense)            (None, 50)                2550      \n",
      "                                                                 \n",
      " dense_26 (Dense)            (None, 50)                2550      \n",
      "                                                                 \n",
      " dense_27 (Dense)            (None, 1)                 51        \n",
      "                                                                 \n",
      "=================================================================\n",
      "Total params: 30776 (120.22 KB)\n",
      "Trainable params: 30776 (120.22 KB)\n",
      "Non-trainable params: 0 (0.00 Byte)\n",
      "_________________________________________________________________\n",
      "None\n"
     ]
    }
   ],
   "source": [
    "n_features = X_scaled.shape[1]\n",
    "# Create a Sequential model\n",
    "model = Sequential()\n",
    "model.add(Dense(100, input_dim=n_features, activation='relu'))\n",
    "\n",
    "model.add(Dense(75, activation='relu'))\n",
    "\n",
    "model.add(Dense(50, activation='relu'))\n",
    "\n",
    "model.add(Dense(50, activation='relu'))\n",
    "\n",
    "model.add(Dense(50, activation='relu'))\n",
    "\n",
    "model.add(Dense(50, activation='relu'))\n",
    "\n",
    "model.add(Dense(1))\n",
    "\n",
    "# Compile the model\n",
    "model.compile(optimizer=Adam(learning_rate=0.1), loss='mean_squared_error', metrics=['mse'])\n",
    "\n",
    "\n",
    "print(model.summary())"
   ]
  },
  {
   "cell_type": "code",
   "execution_count": 31,
   "metadata": {},
   "outputs": [
    {
     "name": "stdout",
     "output_type": "stream",
     "text": [
      "Epoch 1/100\n",
      "1211/1211 [==============================] - 4s 3ms/step - loss: 696275334856704.0000 - mse: 696275334856704.0000\n",
      "Epoch 2/100\n",
      "1211/1211 [==============================] - 3s 3ms/step - loss: 694270256218112.0000 - mse: 694270256218112.0000\n",
      "Epoch 3/100\n",
      "1211/1211 [==============================] - 3s 3ms/step - loss: 694252606586880.0000 - mse: 694252606586880.0000\n",
      "Epoch 4/100\n",
      "1211/1211 [==============================] - 3s 3ms/step - loss: 694192946806784.0000 - mse: 694193013915648.0000\n",
      "Epoch 5/100\n",
      "1211/1211 [==============================] - 3s 2ms/step - loss: 693990412255232.0000 - mse: 693990479364096.0000\n",
      "Epoch 6/100\n",
      "1211/1211 [==============================] - 3s 2ms/step - loss: 693389318160384.0000 - mse: 693389318160384.0000\n",
      "Epoch 7/100\n",
      "1211/1211 [==============================] - 3s 3ms/step - loss: 691774074912768.0000 - mse: 691774074912768.0000\n",
      "Epoch 8/100\n",
      "1211/1211 [==============================] - 3s 3ms/step - loss: 687758146273280.0000 - mse: 687758146273280.0000\n",
      "Epoch 9/100\n",
      "1211/1211 [==============================] - 3s 3ms/step - loss: 678533831589888.0000 - mse: 678533831589888.0000\n",
      "Epoch 10/100\n",
      "1211/1211 [==============================] - 3s 2ms/step - loss: 659530815897600.0000 - mse: 659530815897600.0000\n",
      "Epoch 11/100\n",
      "1211/1211 [==============================] - 3s 2ms/step - loss: 627098712539136.0000 - mse: 627098712539136.0000\n",
      "Epoch 12/100\n",
      "1211/1211 [==============================] - 3s 2ms/step - loss: 584656718135296.0000 - mse: 584656718135296.0000\n",
      "Epoch 13/100\n",
      "1211/1211 [==============================] - 3s 2ms/step - loss: 542525873979392.0000 - mse: 542525907533824.0000\n",
      "Epoch 14/100\n",
      "1211/1211 [==============================] - 3s 2ms/step - loss: 509241756483584.0000 - mse: 509241756483584.0000\n",
      "Epoch 15/100\n",
      "1211/1211 [==============================] - 3s 2ms/step - loss: 488476394913792.0000 - mse: 488476327804928.0000\n",
      "Epoch 16/100\n",
      "1211/1211 [==============================] - 3s 3ms/step - loss: 479311605792768.0000 - mse: 479311605792768.0000\n",
      "Epoch 17/100\n",
      "1211/1211 [==============================] - 3s 2ms/step - loss: 476969774874624.0000 - mse: 476969774874624.0000\n",
      "Epoch 18/100\n",
      "1211/1211 [==============================] - 3s 2ms/step - loss: 476695601610752.0000 - mse: 476695601610752.0000\n",
      "Epoch 19/100\n",
      "1211/1211 [==============================] - 3s 2ms/step - loss: 476685367508992.0000 - mse: 476685367508992.0000\n",
      "Epoch 20/100\n",
      "1211/1211 [==============================] - 3s 2ms/step - loss: 476684629311488.0000 - mse: 476684629311488.0000\n",
      "Epoch 21/100\n",
      "1211/1211 [==============================] - 3s 2ms/step - loss: 476685468172288.0000 - mse: 476685468172288.0000\n",
      "Epoch 22/100\n",
      "1211/1211 [==============================] - 3s 2ms/step - loss: 476685333954560.0000 - mse: 476685333954560.0000\n",
      "Epoch 23/100\n",
      "1211/1211 [==============================] - 3s 3ms/step - loss: 476685568835584.0000 - mse: 476685568835584.0000\n",
      "Epoch 24/100\n",
      "1211/1211 [==============================] - 3s 3ms/step - loss: 476684528648192.0000 - mse: 476684528648192.0000\n",
      "Epoch 25/100\n",
      "1211/1211 [==============================] - 3s 2ms/step - loss: 476685401063424.0000 - mse: 476685401063424.0000\n",
      "Epoch 26/100\n",
      "1211/1211 [==============================] - 3s 3ms/step - loss: 476684629311488.0000 - mse: 476684629311488.0000\n",
      "Epoch 27/100\n",
      "1211/1211 [==============================] - 3s 3ms/step - loss: 476685333954560.0000 - mse: 476685333954560.0000\n",
      "Epoch 28/100\n",
      "1211/1211 [==============================] - 3s 3ms/step - loss: 476684729974784.0000 - mse: 476684729974784.0000\n",
      "Epoch 29/100\n",
      "1211/1211 [==============================] - 3s 3ms/step - loss: 476685166182400.0000 - mse: 476685233291264.0000\n",
      "Epoch 30/100\n",
      "1211/1211 [==============================] - 3s 3ms/step - loss: 476684461539328.0000 - mse: 476684461539328.0000\n",
      "Epoch 31/100\n",
      "1211/1211 [==============================] - 3s 3ms/step - loss: 476685065519104.0000 - mse: 476685065519104.0000\n",
      "Epoch 32/100\n",
      "1211/1211 [==============================] - 3s 2ms/step - loss: 476686038597632.0000 - mse: 476686005043200.0000\n",
      "Epoch 33/100\n",
      "1211/1211 [==============================] - 3s 3ms/step - loss: 476685937934336.0000 - mse: 476685937934336.0000\n",
      "Epoch 34/100\n",
      "1211/1211 [==============================] - 3s 3ms/step - loss: 476686105706496.0000 - mse: 476686105706496.0000\n",
      "Epoch 35/100\n",
      "1211/1211 [==============================] - 3s 2ms/step - loss: 476685568835584.0000 - mse: 476685568835584.0000\n",
      "Epoch 36/100\n",
      "1211/1211 [==============================] - 3s 3ms/step - loss: 476684696420352.0000 - mse: 476684696420352.0000\n",
      "Epoch 37/100\n",
      "1211/1211 [==============================] - 3s 2ms/step - loss: 476682750263296.0000 - mse: 476682750263296.0000\n",
      "Epoch 38/100\n",
      "1211/1211 [==============================] - 3s 2ms/step - loss: 476683622678528.0000 - mse: 476683622678528.0000\n",
      "Epoch 39/100\n",
      "1211/1211 [==============================] - 3s 2ms/step - loss: 476685837271040.0000 - mse: 476685837271040.0000\n",
      "Epoch 40/100\n",
      "1211/1211 [==============================] - 3s 2ms/step - loss: 476684629311488.0000 - mse: 476684629311488.0000\n",
      "Epoch 41/100\n",
      "1211/1211 [==============================] - 3s 3ms/step - loss: 476684025331712.0000 - mse: 476684025331712.0000\n",
      "Epoch 42/100\n",
      "1211/1211 [==============================] - 4s 3ms/step - loss: 476685568835584.0000 - mse: 476685568835584.0000\n",
      "Epoch 43/100\n",
      "1211/1211 [==============================] - 3s 3ms/step - loss: 476684797083648.0000 - mse: 476684797083648.0000\n",
      "Epoch 44/100\n",
      "1211/1211 [==============================] - 3s 2ms/step - loss: 476684461539328.0000 - mse: 476684461539328.0000\n",
      "Epoch 45/100\n",
      "1211/1211 [==============================] - 3s 2ms/step - loss: 476684797083648.0000 - mse: 476684797083648.0000\n",
      "Epoch 46/100\n",
      "1211/1211 [==============================] - 3s 2ms/step - loss: 476684830638080.0000 - mse: 476684830638080.0000\n",
      "Epoch 47/100\n",
      "1211/1211 [==============================] - 3s 2ms/step - loss: 476684696420352.0000 - mse: 476684696420352.0000\n",
      "Epoch 48/100\n",
      "1211/1211 [==============================] - 3s 2ms/step - loss: 476684931301376.0000 - mse: 476684931301376.0000\n",
      "Epoch 49/100\n",
      "1211/1211 [==============================] - 3s 2ms/step - loss: 476685803716608.0000 - mse: 476685803716608.0000\n",
      "Epoch 50/100\n",
      "1211/1211 [==============================] - 3s 2ms/step - loss: 476685333954560.0000 - mse: 476685333954560.0000\n",
      "Epoch 51/100\n",
      "1211/1211 [==============================] - 3s 2ms/step - loss: 476685937934336.0000 - mse: 476685937934336.0000\n",
      "Epoch 52/100\n",
      "1211/1211 [==============================] - 3s 2ms/step - loss: 476684528648192.0000 - mse: 476684528648192.0000\n",
      "Epoch 53/100\n",
      "1211/1211 [==============================] - 3s 3ms/step - loss: 476682179837952.0000 - mse: 476682179837952.0000\n",
      "Epoch 54/100\n",
      "1211/1211 [==============================] - 3s 3ms/step - loss: 476684964855808.0000 - mse: 476684964855808.0000\n",
      "Epoch 55/100\n",
      "1211/1211 [==============================] - 3s 3ms/step - loss: 476685468172288.0000 - mse: 476685468172288.0000\n",
      "Epoch 56/100\n",
      "1211/1211 [==============================] - 3s 3ms/step - loss: 476684897746944.0000 - mse: 476684897746944.0000\n",
      "Epoch 57/100\n",
      "1211/1211 [==============================] - 3s 2ms/step - loss: 476685937934336.0000 - mse: 476685904379904.0000\n",
      "Epoch 58/100\n",
      "1211/1211 [==============================] - 3s 3ms/step - loss: 476684797083648.0000 - mse: 476684797083648.0000\n",
      "Epoch 59/100\n",
      "1211/1211 [==============================] - 3s 3ms/step - loss: 476683756896256.0000 - mse: 476683756896256.0000\n",
      "Epoch 60/100\n",
      "1211/1211 [==============================] - 3s 3ms/step - loss: 476684360876032.0000 - mse: 476684360876032.0000\n",
      "Epoch 61/100\n",
      "1211/1211 [==============================] - 4s 3ms/step - loss: 476684897746944.0000 - mse: 476684897746944.0000\n",
      "Epoch 62/100\n",
      "1211/1211 [==============================] - 4s 3ms/step - loss: 476683287134208.0000 - mse: 476683287134208.0000\n",
      "Epoch 63/100\n",
      "1211/1211 [==============================] - 3s 3ms/step - loss: 476685468172288.0000 - mse: 476685401063424.0000\n",
      "Epoch 64/100\n",
      "1211/1211 [==============================] - 3s 2ms/step - loss: 476686474805248.0000 - mse: 476686474805248.0000\n",
      "Epoch 65/100\n",
      "1211/1211 [==============================] - 3s 2ms/step - loss: 476685468172288.0000 - mse: 476685468172288.0000\n",
      "Epoch 66/100\n",
      "1211/1211 [==============================] - 3s 2ms/step - loss: 476684193103872.0000 - mse: 476684193103872.0000\n",
      "Epoch 67/100\n",
      "1211/1211 [==============================] - 3s 2ms/step - loss: 476684897746944.0000 - mse: 476684897746944.0000\n",
      "Epoch 68/100\n",
      "1211/1211 [==============================] - 3s 2ms/step - loss: 476685501726720.0000 - mse: 476685501726720.0000\n",
      "Epoch 69/100\n",
      "1211/1211 [==============================] - 3s 2ms/step - loss: 476685367508992.0000 - mse: 476685367508992.0000\n",
      "Epoch 70/100\n",
      "1211/1211 [==============================] - 3s 2ms/step - loss: 476685132627968.0000 - mse: 476685132627968.0000\n",
      "Epoch 71/100\n",
      "1211/1211 [==============================] - 3s 2ms/step - loss: 476685568835584.0000 - mse: 476685568835584.0000\n",
      "Epoch 72/100\n",
      "1211/1211 [==============================] - 3s 2ms/step - loss: 476683958222848.0000 - mse: 476683958222848.0000\n",
      "Epoch 73/100\n",
      "1211/1211 [==============================] - 3s 2ms/step - loss: 476682850926592.0000 - mse: 476682850926592.0000\n",
      "Epoch 74/100\n",
      "1211/1211 [==============================] - 3s 2ms/step - loss: 476683589124096.0000 - mse: 476683589124096.0000\n",
      "Epoch 75/100\n",
      "1211/1211 [==============================] - 3s 2ms/step - loss: 476684293767168.0000 - mse: 476684293767168.0000\n",
      "Epoch 76/100\n",
      "1211/1211 [==============================] - 3s 2ms/step - loss: 476684293767168.0000 - mse: 476684293767168.0000\n",
      "Epoch 77/100\n",
      "1211/1211 [==============================] - 3s 2ms/step - loss: 476684528648192.0000 - mse: 476684528648192.0000\n",
      "Epoch 78/100\n",
      "1211/1211 [==============================] - 3s 2ms/step - loss: 476685333954560.0000 - mse: 476685333954560.0000\n",
      "Epoch 79/100\n",
      "1211/1211 [==============================] - 3s 2ms/step - loss: 476687514992640.0000 - mse: 476687514992640.0000\n",
      "Epoch 80/100\n",
      "1211/1211 [==============================] - 3s 2ms/step - loss: 476684696420352.0000 - mse: 476684696420352.0000\n",
      "Epoch 81/100\n",
      "1211/1211 [==============================] - 3s 2ms/step - loss: 476685166182400.0000 - mse: 476685166182400.0000\n",
      "Epoch 82/100\n",
      "1211/1211 [==============================] - 3s 2ms/step - loss: 476684528648192.0000 - mse: 476684528648192.0000\n",
      "Epoch 83/100\n",
      "1211/1211 [==============================] - 3s 2ms/step - loss: 476684797083648.0000 - mse: 476684797083648.0000\n",
      "Epoch 84/100\n",
      "1211/1211 [==============================] - 3s 2ms/step - loss: 476684260212736.0000 - mse: 476684260212736.0000\n",
      "Epoch 85/100\n",
      "1211/1211 [==============================] - 3s 3ms/step - loss: 476685166182400.0000 - mse: 476685166182400.0000\n",
      "Epoch 86/100\n",
      "1211/1211 [==============================] - 3s 2ms/step - loss: 476684025331712.0000 - mse: 476684025331712.0000\n",
      "Epoch 87/100\n",
      "1211/1211 [==============================] - 3s 2ms/step - loss: 476685166182400.0000 - mse: 476685166182400.0000\n",
      "Epoch 88/100\n",
      "1211/1211 [==============================] - 3s 2ms/step - loss: 476686005043200.0000 - mse: 476686005043200.0000\n",
      "Epoch 89/100\n",
      "1211/1211 [==============================] - 3s 2ms/step - loss: 476685333954560.0000 - mse: 476685333954560.0000\n",
      "Epoch 90/100\n",
      "1211/1211 [==============================] - 3s 2ms/step - loss: 476685333954560.0000 - mse: 476685333954560.0000\n",
      "Epoch 91/100\n",
      "1211/1211 [==============================] - 3s 2ms/step - loss: 476684495093760.0000 - mse: 476684495093760.0000\n",
      "Epoch 92/100\n",
      "1211/1211 [==============================] - 3s 2ms/step - loss: 476685904379904.0000 - mse: 476685904379904.0000\n",
      "Epoch 93/100\n",
      "1211/1211 [==============================] - 3s 3ms/step - loss: 476685770162176.0000 - mse: 476685770162176.0000\n",
      "Epoch 94/100\n",
      "1211/1211 [==============================] - 3s 3ms/step - loss: 476684058886144.0000 - mse: 476684058886144.0000\n",
      "Epoch 95/100\n",
      "1211/1211 [==============================] - 3s 2ms/step - loss: 476686474805248.0000 - mse: 476686474805248.0000\n",
      "Epoch 96/100\n",
      "1211/1211 [==============================] - 3s 2ms/step - loss: 476685233291264.0000 - mse: 476685233291264.0000\n",
      "Epoch 97/100\n",
      "1211/1211 [==============================] - 3s 3ms/step - loss: 476685669498880.0000 - mse: 476685669498880.0000\n",
      "Epoch 98/100\n",
      "1211/1211 [==============================] - 3s 3ms/step - loss: 476683924668416.0000 - mse: 476683924668416.0000\n",
      "Epoch 99/100\n",
      "1211/1211 [==============================] - 3s 3ms/step - loss: 476685266845696.0000 - mse: 476685266845696.0000\n",
      "Epoch 100/100\n",
      "1211/1211 [==============================] - 3s 3ms/step - loss: 476685669498880.0000 - mse: 476685770162176.0000\n"
     ]
    },
    {
     "data": {
      "text/plain": [
       "<keras.src.callbacks.History at 0x1f8962de290>"
      ]
     },
     "execution_count": 31,
     "metadata": {},
     "output_type": "execute_result"
    }
   ],
   "source": [
    "model.fit(X_scaled, y, epochs=100, batch_size=150)\n",
    "# model.fit(X_scaled, y, epochs=200, batch_size=256)"
   ]
  },
  {
   "cell_type": "code",
   "execution_count": 32,
   "metadata": {},
   "outputs": [
    {
     "name": "stdout",
     "output_type": "stream",
     "text": [
      "2431/2431 [==============================] - 3s 1ms/step\n"
     ]
    }
   ],
   "source": [
    "pred = model.predict(df2_encoded_scaled)"
   ]
  },
  {
   "cell_type": "code",
   "execution_count": 33,
   "metadata": {},
   "outputs": [],
   "source": [
    "df_sample = pd.read_csv(\"test.csv\")\n",
    "# Create a prediction.csv file\n",
    "prediction_df = pd.DataFrame({'row ID': df_sample['row ID'], 'price_doc': pred.flatten()})\n",
    "prediction_df.to_csv('prediction_1dec_1.csv', index=False)"
   ]
  }
 ],
 "metadata": {
  "kernelspec": {
   "display_name": "Python 3",
   "language": "python",
   "name": "python3"
  },
  "language_info": {
   "codemirror_mode": {
    "name": "ipython",
    "version": 3
   },
   "file_extension": ".py",
   "mimetype": "text/x-python",
   "name": "python",
   "nbconvert_exporter": "python",
   "pygments_lexer": "ipython3",
   "version": "3.11.5"
  }
 },
 "nbformat": 4,
 "nbformat_minor": 2
}
