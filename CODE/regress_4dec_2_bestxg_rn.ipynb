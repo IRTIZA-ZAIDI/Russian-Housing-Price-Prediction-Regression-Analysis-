{
 "cells": [
  {
   "cell_type": "code",
   "execution_count": 1,
   "metadata": {},
   "outputs": [],
   "source": [
    "import pandas as pd\n",
    "import xgboost as xgb\n",
    "from sklearn.model_selection import train_test_split\n",
    "from sklearn.metrics import mean_squared_error\n",
    "import csv\n"
   ]
  },
  {
   "cell_type": "code",
   "execution_count": 2,
   "metadata": {},
   "outputs": [],
   "source": [
    "# Load the data\n",
    "df = pd.read_csv('train.csv')\n",
    "df.drop_duplicates(inplace=True)\n",
    "\n",
    "# Separate features and target\n",
    "X = df.drop('price_doc', axis=1)\n",
    "y = df['price_doc']\n",
    "\n",
    "# Convert object columns to numeric using a simpler approach\n",
    "X = pd.get_dummies(X, drop_first=True)\n",
    "\n",
    "# Train-test split\n",
    "X_train, X_test, y_train, y_test = train_test_split(X, y, test_size=0.2, random_state=42)\n",
    "\n",
    "# Best parameters from the grid search\n",
    "best_params = {'colsample_bytree': 0.5, 'learning_rate': 0.1, 'max_depth': 5, 'n_estimators': 50}\n"
   ]
  },
  {
   "cell_type": "code",
   "execution_count": 3,
   "metadata": {},
   "outputs": [
    {
     "name": "stdout",
     "output_type": "stream",
     "text": [
      "Mean Squared Error: 167597349122793.56\n"
     ]
    }
   ],
   "source": [
    "\n",
    "# XGBoost model with best parameters\n",
    "xg_reg = xgb.XGBRegressor(\n",
    "    colsample_bytree=best_params['colsample_bytree'],\n",
    "    learning_rate=best_params['learning_rate'],\n",
    "    max_depth=best_params['max_depth'],\n",
    "    n_estimators=best_params['n_estimators'],\n",
    "    objective='reg:squarederror'\n",
    ")\n",
    "\n",
    "# Fit the model\n",
    "xg_reg.fit(X_train, y_train)\n",
    "\n",
    "# Predictions on the test set\n",
    "y_pred = xg_reg.predict(X_test)\n",
    "mse = mean_squared_error(y_test, y_pred)\n",
    "print(f'Mean Squared Error: {mse}')\n",
    "\n",
    "# Load and preprocess the test data\n",
    "df_test = pd.read_csv('test.csv')\n",
    "df_test = df_test.drop(['row ID'], axis=1)\n",
    "\n",
    "# Convert object columns to numeric using the same approach as in the training set\n",
    "df_test = pd.get_dummies(df_test, drop_first=True)\n",
    "\n",
    "# Ensure the columns match the training set\n",
    "df_test = df_test.reindex(columns=X.columns, fill_value=0)\n",
    "\n"
   ]
  },
  {
   "cell_type": "code",
   "execution_count": 4,
   "metadata": {},
   "outputs": [],
   "source": [
    "\n",
    "# Make predictions on the test set\n",
    "y_pred_test = xg_reg.predict(df_test)"
   ]
  },
  {
   "cell_type": "code",
   "execution_count": 5,
   "metadata": {},
   "outputs": [],
   "source": [
    "\n",
    "# Write predictions to a CSV file\n",
    "filepath = 'xgboost_predictions.csv'\n",
    "with open(filepath, mode='w', newline='') as file:\n",
    "    writer = csv.writer(file)\n",
    "    writer.writerow(['row ID', 'price_doc'])\n",
    "    for c, prediction in enumerate(y_pred_test, start=1):\n",
    "        writer.writerow([c, prediction])\n"
   ]
  }
 ],
 "metadata": {
  "kernelspec": {
   "display_name": "Python 3",
   "language": "python",
   "name": "python3"
  },
  "language_info": {
   "codemirror_mode": {
    "name": "ipython",
    "version": 3
   },
   "file_extension": ".py",
   "mimetype": "text/x-python",
   "name": "python",
   "nbconvert_exporter": "python",
   "pygments_lexer": "ipython3",
   "version": "3.11.5"
  }
 },
 "nbformat": 4,
 "nbformat_minor": 2
}
