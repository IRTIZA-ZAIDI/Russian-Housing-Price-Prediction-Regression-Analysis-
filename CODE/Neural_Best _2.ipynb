{
 "cells": [
  {
   "cell_type": "code",
   "execution_count": 154,
   "metadata": {},
   "outputs": [],
   "source": [
    "import pandas as pd\n",
    "from matplotlib import pyplot as plt\n",
    "from sklearn.model_selection import train_test_split\n",
    "from sklearn.metrics import mean_squared_error\n",
    "from sklearn.preprocessing import StandardScaler\n",
    "import csv\n",
    "import statsmodels.api as sm\n",
    "from sklearn.feature_selection import SelectKBest,f_regression\n",
    "from sklearn.preprocessing import LabelEncoder\n",
    "import seaborn as sns"
   ]
  },
  {
   "cell_type": "code",
   "execution_count": 155,
   "metadata": {},
   "outputs": [
    {
     "name": "stdout",
     "output_type": "stream",
     "text": [
      "d:\\IML ASSIGNMENT 2\\CODE\n"
     ]
    }
   ],
   "source": [
    "import os\n",
    "print(os.getcwd())"
   ]
  },
  {
   "cell_type": "code",
   "execution_count": 156,
   "metadata": {},
   "outputs": [],
   "source": [
    "df = pd.read_csv('train.csv')"
   ]
  },
  {
   "cell_type": "code",
   "execution_count": 157,
   "metadata": {},
   "outputs": [],
   "source": [
    "df.drop_duplicates(inplace=True)"
   ]
  },
  {
   "cell_type": "code",
   "execution_count": 158,
   "metadata": {},
   "outputs": [],
   "source": [
    "X = df.loc[:, df.columns != 'price_doc']\n",
    "y = df[['price_doc']]"
   ]
  },
  {
   "cell_type": "code",
   "execution_count": 159,
   "metadata": {},
   "outputs": [],
   "source": [
    "object_cols = X.select_dtypes(include=['object']).columns"
   ]
  },
  {
   "cell_type": "code",
   "execution_count": 160,
   "metadata": {},
   "outputs": [
    {
     "name": "stderr",
     "output_type": "stream",
     "text": [
      "C:\\Users\\Irtiza\\AppData\\Local\\Temp\\ipykernel_9036\\2966562952.py:3: SettingWithCopyWarning: \n",
      "A value is trying to be set on a copy of a slice from a DataFrame.\n",
      "Try using .loc[row_indexer,col_indexer] = value instead\n",
      "\n",
      "See the caveats in the documentation: https://pandas.pydata.org/pandas-docs/stable/user_guide/indexing.html#returning-a-view-versus-a-copy\n",
      "  X[col] = label.fit_transform(X[col].astype(str))\n",
      "C:\\Users\\Irtiza\\AppData\\Local\\Temp\\ipykernel_9036\\2966562952.py:3: SettingWithCopyWarning: \n",
      "A value is trying to be set on a copy of a slice from a DataFrame.\n",
      "Try using .loc[row_indexer,col_indexer] = value instead\n",
      "\n",
      "See the caveats in the documentation: https://pandas.pydata.org/pandas-docs/stable/user_guide/indexing.html#returning-a-view-versus-a-copy\n",
      "  X[col] = label.fit_transform(X[col].astype(str))\n",
      "C:\\Users\\Irtiza\\AppData\\Local\\Temp\\ipykernel_9036\\2966562952.py:3: SettingWithCopyWarning: \n",
      "A value is trying to be set on a copy of a slice from a DataFrame.\n",
      "Try using .loc[row_indexer,col_indexer] = value instead\n",
      "\n",
      "See the caveats in the documentation: https://pandas.pydata.org/pandas-docs/stable/user_guide/indexing.html#returning-a-view-versus-a-copy\n",
      "  X[col] = label.fit_transform(X[col].astype(str))\n",
      "C:\\Users\\Irtiza\\AppData\\Local\\Temp\\ipykernel_9036\\2966562952.py:3: SettingWithCopyWarning: \n",
      "A value is trying to be set on a copy of a slice from a DataFrame.\n",
      "Try using .loc[row_indexer,col_indexer] = value instead\n",
      "\n",
      "See the caveats in the documentation: https://pandas.pydata.org/pandas-docs/stable/user_guide/indexing.html#returning-a-view-versus-a-copy\n",
      "  X[col] = label.fit_transform(X[col].astype(str))\n",
      "C:\\Users\\Irtiza\\AppData\\Local\\Temp\\ipykernel_9036\\2966562952.py:3: SettingWithCopyWarning: \n",
      "A value is trying to be set on a copy of a slice from a DataFrame.\n",
      "Try using .loc[row_indexer,col_indexer] = value instead\n",
      "\n",
      "See the caveats in the documentation: https://pandas.pydata.org/pandas-docs/stable/user_guide/indexing.html#returning-a-view-versus-a-copy\n",
      "  X[col] = label.fit_transform(X[col].astype(str))\n",
      "C:\\Users\\Irtiza\\AppData\\Local\\Temp\\ipykernel_9036\\2966562952.py:3: SettingWithCopyWarning: \n",
      "A value is trying to be set on a copy of a slice from a DataFrame.\n",
      "Try using .loc[row_indexer,col_indexer] = value instead\n",
      "\n",
      "See the caveats in the documentation: https://pandas.pydata.org/pandas-docs/stable/user_guide/indexing.html#returning-a-view-versus-a-copy\n",
      "  X[col] = label.fit_transform(X[col].astype(str))\n",
      "C:\\Users\\Irtiza\\AppData\\Local\\Temp\\ipykernel_9036\\2966562952.py:3: SettingWithCopyWarning: \n",
      "A value is trying to be set on a copy of a slice from a DataFrame.\n",
      "Try using .loc[row_indexer,col_indexer] = value instead\n",
      "\n",
      "See the caveats in the documentation: https://pandas.pydata.org/pandas-docs/stable/user_guide/indexing.html#returning-a-view-versus-a-copy\n",
      "  X[col] = label.fit_transform(X[col].astype(str))\n",
      "C:\\Users\\Irtiza\\AppData\\Local\\Temp\\ipykernel_9036\\2966562952.py:3: SettingWithCopyWarning: \n",
      "A value is trying to be set on a copy of a slice from a DataFrame.\n",
      "Try using .loc[row_indexer,col_indexer] = value instead\n",
      "\n",
      "See the caveats in the documentation: https://pandas.pydata.org/pandas-docs/stable/user_guide/indexing.html#returning-a-view-versus-a-copy\n",
      "  X[col] = label.fit_transform(X[col].astype(str))\n",
      "C:\\Users\\Irtiza\\AppData\\Local\\Temp\\ipykernel_9036\\2966562952.py:3: SettingWithCopyWarning: \n",
      "A value is trying to be set on a copy of a slice from a DataFrame.\n",
      "Try using .loc[row_indexer,col_indexer] = value instead\n",
      "\n",
      "See the caveats in the documentation: https://pandas.pydata.org/pandas-docs/stable/user_guide/indexing.html#returning-a-view-versus-a-copy\n",
      "  X[col] = label.fit_transform(X[col].astype(str))\n",
      "C:\\Users\\Irtiza\\AppData\\Local\\Temp\\ipykernel_9036\\2966562952.py:3: SettingWithCopyWarning: \n",
      "A value is trying to be set on a copy of a slice from a DataFrame.\n",
      "Try using .loc[row_indexer,col_indexer] = value instead\n",
      "\n",
      "See the caveats in the documentation: https://pandas.pydata.org/pandas-docs/stable/user_guide/indexing.html#returning-a-view-versus-a-copy\n",
      "  X[col] = label.fit_transform(X[col].astype(str))\n",
      "C:\\Users\\Irtiza\\AppData\\Local\\Temp\\ipykernel_9036\\2966562952.py:3: SettingWithCopyWarning: \n",
      "A value is trying to be set on a copy of a slice from a DataFrame.\n",
      "Try using .loc[row_indexer,col_indexer] = value instead\n",
      "\n",
      "See the caveats in the documentation: https://pandas.pydata.org/pandas-docs/stable/user_guide/indexing.html#returning-a-view-versus-a-copy\n",
      "  X[col] = label.fit_transform(X[col].astype(str))\n",
      "C:\\Users\\Irtiza\\AppData\\Local\\Temp\\ipykernel_9036\\2966562952.py:3: SettingWithCopyWarning: \n",
      "A value is trying to be set on a copy of a slice from a DataFrame.\n",
      "Try using .loc[row_indexer,col_indexer] = value instead\n",
      "\n",
      "See the caveats in the documentation: https://pandas.pydata.org/pandas-docs/stable/user_guide/indexing.html#returning-a-view-versus-a-copy\n",
      "  X[col] = label.fit_transform(X[col].astype(str))\n",
      "C:\\Users\\Irtiza\\AppData\\Local\\Temp\\ipykernel_9036\\2966562952.py:3: SettingWithCopyWarning: \n",
      "A value is trying to be set on a copy of a slice from a DataFrame.\n",
      "Try using .loc[row_indexer,col_indexer] = value instead\n",
      "\n",
      "See the caveats in the documentation: https://pandas.pydata.org/pandas-docs/stable/user_guide/indexing.html#returning-a-view-versus-a-copy\n",
      "  X[col] = label.fit_transform(X[col].astype(str))\n",
      "C:\\Users\\Irtiza\\AppData\\Local\\Temp\\ipykernel_9036\\2966562952.py:3: SettingWithCopyWarning: \n",
      "A value is trying to be set on a copy of a slice from a DataFrame.\n",
      "Try using .loc[row_indexer,col_indexer] = value instead\n",
      "\n",
      "See the caveats in the documentation: https://pandas.pydata.org/pandas-docs/stable/user_guide/indexing.html#returning-a-view-versus-a-copy\n",
      "  X[col] = label.fit_transform(X[col].astype(str))\n",
      "C:\\Users\\Irtiza\\AppData\\Local\\Temp\\ipykernel_9036\\2966562952.py:3: SettingWithCopyWarning: \n",
      "A value is trying to be set on a copy of a slice from a DataFrame.\n",
      "Try using .loc[row_indexer,col_indexer] = value instead\n",
      "\n",
      "See the caveats in the documentation: https://pandas.pydata.org/pandas-docs/stable/user_guide/indexing.html#returning-a-view-versus-a-copy\n",
      "  X[col] = label.fit_transform(X[col].astype(str))\n"
     ]
    }
   ],
   "source": [
    "label = LabelEncoder()\n",
    "for col in object_cols:\n",
    "    X[col] = label.fit_transform(X[col].astype(str))"
   ]
  },
  {
   "cell_type": "code",
   "execution_count": 161,
   "metadata": {},
   "outputs": [
    {
     "data": {
      "text/plain": [
       "(178661, 271)"
      ]
     },
     "execution_count": 161,
     "metadata": {},
     "output_type": "execute_result"
    }
   ],
   "source": [
    "X.shape"
   ]
  },
  {
   "cell_type": "code",
   "execution_count": 162,
   "metadata": {},
   "outputs": [],
   "source": [
    "num_cols = X.select_dtypes(include=['int64','float64']).columns"
   ]
  },
  {
   "cell_type": "code",
   "execution_count": 163,
   "metadata": {},
   "outputs": [
    {
     "name": "stderr",
     "output_type": "stream",
     "text": [
      "C:\\Users\\Irtiza\\AppData\\Local\\Temp\\ipykernel_9036\\334397748.py:4: SettingWithCopyWarning: \n",
      "A value is trying to be set on a copy of a slice from a DataFrame.\n",
      "Try using .loc[row_indexer,col_indexer] = value instead\n",
      "\n",
      "See the caveats in the documentation: https://pandas.pydata.org/pandas-docs/stable/user_guide/indexing.html#returning-a-view-versus-a-copy\n",
      "  X[num_cols] = scaler.fit_transform(X[num_cols])\n"
     ]
    }
   ],
   "source": [
    "from sklearn.preprocessing import StandardScaler,MinMaxScaler,RobustScaler\n",
    "\n",
    "scaler = RobustScaler()\n",
    "X[num_cols] = scaler.fit_transform(X[num_cols])"
   ]
  },
  {
   "cell_type": "code",
   "execution_count": 164,
   "metadata": {},
   "outputs": [
    {
     "data": {
      "text/plain": [
       "(178661, 271)"
      ]
     },
     "execution_count": 164,
     "metadata": {},
     "output_type": "execute_result"
    }
   ],
   "source": [
    "X.shape"
   ]
  },
  {
   "cell_type": "code",
   "execution_count": 165,
   "metadata": {},
   "outputs": [],
   "source": [
    "from sklearn.decomposition import PCA\n",
    "\n",
    "# Step 1: Apply PCA\n",
    "pca = PCA(n_components=65)\n",
    "X = pca.fit_transform(X)\n"
   ]
  },
  {
   "cell_type": "code",
   "execution_count": 166,
   "metadata": {},
   "outputs": [],
   "source": [
    "# from sklearn.preprocessing import PolynomialFeatures\n",
    "\n",
    "# poly = PolynomialFeatures(degree=3)\n",
    "# X = poly.fit_transform(X)"
   ]
  },
  {
   "cell_type": "code",
   "execution_count": 167,
   "metadata": {},
   "outputs": [
    {
     "data": {
      "text/plain": [
       "(178661, 65)"
      ]
     },
     "execution_count": 167,
     "metadata": {},
     "output_type": "execute_result"
    }
   ],
   "source": [
    "X.shape"
   ]
  },
  {
   "cell_type": "code",
   "execution_count": 168,
   "metadata": {},
   "outputs": [],
   "source": [
    "X_train,X_test,y_train,y_test = train_test_split(X,y,test_size=0.3,random_state=42)"
   ]
  },
  {
   "cell_type": "code",
   "execution_count": 169,
   "metadata": {},
   "outputs": [],
   "source": [
    "df_test = pd.read_csv('test.csv')"
   ]
  },
  {
   "cell_type": "code",
   "execution_count": 170,
   "metadata": {},
   "outputs": [],
   "source": [
    "df_test = df_test.drop(['row ID'], axis=1)"
   ]
  },
  {
   "cell_type": "code",
   "execution_count": 171,
   "metadata": {},
   "outputs": [],
   "source": [
    "label_test = LabelEncoder()\n",
    "for col in object_cols:\n",
    "    df_test[col] = label_test.fit_transform(df_test[col].astype(str))\n"
   ]
  },
  {
   "cell_type": "code",
   "execution_count": 172,
   "metadata": {},
   "outputs": [
    {
     "data": {
      "text/plain": [
       "(77789, 271)"
      ]
     },
     "execution_count": 172,
     "metadata": {},
     "output_type": "execute_result"
    }
   ],
   "source": [
    "df_test.shape"
   ]
  },
  {
   "cell_type": "code",
   "execution_count": 173,
   "metadata": {},
   "outputs": [],
   "source": [
    "df_test[num_cols] = scaler.transform(df_test[num_cols])"
   ]
  },
  {
   "cell_type": "code",
   "execution_count": 174,
   "metadata": {},
   "outputs": [],
   "source": [
    "df_test = pca.transform(df_test)"
   ]
  },
  {
   "cell_type": "code",
   "execution_count": 175,
   "metadata": {},
   "outputs": [],
   "source": [
    "# df_test = poly.transform(df_test)"
   ]
  },
  {
   "cell_type": "code",
   "execution_count": 176,
   "metadata": {},
   "outputs": [
    {
     "data": {
      "text/plain": [
       "(77789, 65)"
      ]
     },
     "execution_count": 176,
     "metadata": {},
     "output_type": "execute_result"
    }
   ],
   "source": [
    "df_test.shape"
   ]
  },
  {
   "cell_type": "code",
   "execution_count": 177,
   "metadata": {},
   "outputs": [],
   "source": [
    "#convert all int64 to float32\n",
    "X = X.astype('float32')\n",
    "df_test = df_test.astype('float32')"
   ]
  },
  {
   "cell_type": "code",
   "execution_count": 178,
   "metadata": {},
   "outputs": [],
   "source": [
    "import torch\n",
    "os.environ[\"KERAS_BACKEND\"] = \"torch\"\n",
    "from keras.models import Sequential\n",
    "from keras.layers import Dense, Dropout\n",
    "from keras.regularizers import l1, l2\n",
    "from keras.optimizers import RMSprop,Adam,Adamax\n",
    "from keras.callbacks import EarlyStopping\n",
    "from sklearn.neural_network import MLPRegressor\n",
    "from sklearn.model_selection import train_test_split\n",
    "from sklearn.preprocessing import StandardScaler\n",
    "from sklearn.metrics import mean_squared_error"
   ]
  },
  {
   "cell_type": "code",
   "execution_count": 179,
   "metadata": {},
   "outputs": [
    {
     "name": "stderr",
     "output_type": "stream",
     "text": [
      "C:\\Users\\Irtiza\\AppData\\Roaming\\Python\\Python311\\site-packages\\sklearn\\neural_network\\_multilayer_perceptron.py:1625: DataConversionWarning: A column-vector y was passed when a 1d array was expected. Please change the shape of y to (n_samples, ), for example using ravel().\n",
      "  y = column_or_1d(y, warn=True)\n"
     ]
    },
    {
     "name": "stdout",
     "output_type": "stream",
     "text": [
      "Iteration 1, loss = 201488005528496.40625000\n",
      "Validation score: 0.543711\n",
      "Iteration 2, loss = 99041718806523.28125000\n",
      "Validation score: 0.612742\n",
      "Iteration 3, loss = 93549551629165.48437500\n",
      "Validation score: 0.618466\n",
      "Iteration 4, loss = 92470588241957.50000000\n",
      "Validation score: 0.618454\n",
      "Iteration 5, loss = 92055989641902.15625000\n",
      "Validation score: 0.620005\n",
      "Iteration 6, loss = 91635239808255.85937500\n",
      "Validation score: 0.622684\n",
      "Iteration 7, loss = 91238275663590.06250000\n",
      "Validation score: 0.622328\n",
      "Iteration 8, loss = 91002590937944.17187500\n",
      "Validation score: 0.625547\n",
      "Iteration 9, loss = 90949530936141.45312500\n",
      "Validation score: 0.625841\n",
      "Iteration 10, loss = 90697998605057.78125000\n",
      "Validation score: 0.622772\n",
      "Iteration 11, loss = 90357010465370.32812500\n",
      "Validation score: 0.625960\n",
      "Iteration 12, loss = 90261702766421.28125000\n",
      "Validation score: 0.628054\n",
      "Iteration 13, loss = 89970440449081.37500000\n",
      "Validation score: 0.629139\n",
      "Iteration 14, loss = 89686512772884.23437500\n",
      "Validation score: 0.630966\n",
      "Iteration 15, loss = 89330383897115.93750000\n",
      "Validation score: 0.629356\n",
      "Iteration 16, loss = 89083360097138.21875000\n",
      "Validation score: 0.622596\n",
      "Iteration 17, loss = 88872378251136.23437500\n",
      "Validation score: 0.631923\n",
      "Iteration 18, loss = 88541863937348.17187500\n",
      "Validation score: 0.633469\n",
      "Iteration 19, loss = 88270484196535.04687500\n",
      "Validation score: 0.633772\n",
      "Iteration 20, loss = 88163161679691.09375000\n",
      "Validation score: 0.632797\n",
      "Iteration 21, loss = 87910993706818.70312500\n",
      "Validation score: 0.634988\n",
      "Iteration 22, loss = 87757309517480.81250000\n",
      "Validation score: 0.635195\n",
      "Iteration 23, loss = 87604193448310.46875000\n",
      "Validation score: 0.636387\n",
      "Iteration 24, loss = 87189939217449.03125000\n",
      "Validation score: 0.636374\n",
      "Iteration 25, loss = 87150406439437.40625000\n",
      "Validation score: 0.636492\n",
      "Iteration 26, loss = 86755008936459.31250000\n",
      "Validation score: 0.636823\n",
      "Iteration 27, loss = 86475798722654.48437500\n",
      "Validation score: 0.636243\n",
      "Iteration 28, loss = 86185290516299.17187500\n",
      "Validation score: 0.636802\n",
      "Iteration 29, loss = 85993478285732.62500000\n",
      "Validation score: 0.638792\n",
      "Iteration 30, loss = 85797495883313.35937500\n",
      "Validation score: 0.639643\n",
      "Iteration 31, loss = 85548310668280.04687500\n",
      "Validation score: 0.640504\n",
      "Iteration 32, loss = 85413635205728.39062500\n",
      "Validation score: 0.633508\n",
      "Iteration 33, loss = 85266362892141.46875000\n",
      "Validation score: 0.639396\n",
      "Iteration 34, loss = 85128861652718.00000000\n",
      "Validation score: 0.643917\n",
      "Iteration 35, loss = 84753815007311.65625000\n",
      "Validation score: 0.642533\n",
      "Iteration 36, loss = 84611415720808.35937500\n",
      "Validation score: 0.644168\n",
      "Iteration 37, loss = 84486941606529.46875000\n",
      "Validation score: 0.644235\n",
      "Iteration 38, loss = 84339851723934.81250000\n",
      "Validation score: 0.645070\n",
      "Iteration 39, loss = 84257829890802.71875000\n",
      "Validation score: 0.646607\n",
      "Iteration 40, loss = 84040341363884.56250000\n",
      "Validation score: 0.644086\n",
      "Iteration 41, loss = 83942442096055.85937500\n",
      "Validation score: 0.645872\n",
      "Iteration 42, loss = 83912604021330.18750000\n",
      "Validation score: 0.643512\n",
      "Iteration 43, loss = 83614424185635.87500000\n",
      "Validation score: 0.646202\n",
      "Iteration 44, loss = 83438236709818.75000000\n",
      "Validation score: 0.650114\n",
      "Iteration 45, loss = 83325906093545.43750000\n",
      "Validation score: 0.650538\n",
      "Iteration 46, loss = 83160195697398.09375000\n",
      "Validation score: 0.650180\n",
      "Iteration 47, loss = 83047722276100.53125000\n",
      "Validation score: 0.646378\n",
      "Iteration 48, loss = 82999212129143.31250000\n",
      "Validation score: 0.650757\n",
      "Iteration 49, loss = 82960003951403.73437500\n",
      "Validation score: 0.643925\n",
      "Iteration 50, loss = 82861063374238.68750000\n",
      "Validation score: 0.649406\n",
      "Iteration 51, loss = 82565333676316.93750000\n",
      "Validation score: 0.649684\n",
      "Iteration 52, loss = 82547856123722.15625000\n",
      "Validation score: 0.647990\n",
      "Iteration 53, loss = 82544781485913.17187500\n",
      "Validation score: 0.650590\n",
      "Iteration 54, loss = 82203624395125.89062500\n",
      "Validation score: 0.651301\n",
      "Iteration 55, loss = 82317882850390.53125000\n",
      "Validation score: 0.649859\n",
      "Iteration 56, loss = 82162328544528.78125000\n",
      "Validation score: 0.647611\n",
      "Iteration 57, loss = 82199780667461.53125000\n",
      "Validation score: 0.646728\n",
      "Iteration 58, loss = 82059290290379.75000000\n",
      "Validation score: 0.649925\n",
      "Iteration 59, loss = 81960393184990.93750000\n",
      "Validation score: 0.645127\n",
      "Iteration 60, loss = 81945231630964.79687500\n",
      "Validation score: 0.644786\n",
      "Iteration 61, loss = 81691666274978.54687500\n",
      "Validation score: 0.649485\n",
      "Iteration 62, loss = 81605728425350.92187500\n",
      "Validation score: 0.649393\n",
      "Iteration 63, loss = 81457728145379.10937500\n",
      "Validation score: 0.652091\n",
      "Iteration 64, loss = 81480363262237.04687500\n",
      "Validation score: 0.644529\n",
      "Iteration 65, loss = 81405788985397.84375000\n",
      "Validation score: 0.644823\n",
      "Iteration 66, loss = 81283015523370.54687500\n",
      "Validation score: 0.646814\n",
      "Iteration 67, loss = 81106205922484.34375000\n",
      "Validation score: 0.649438\n",
      "Iteration 68, loss = 81088698766702.06250000\n",
      "Validation score: 0.650887\n",
      "Iteration 69, loss = 81137145245027.96875000\n",
      "Validation score: 0.650190\n",
      "Iteration 70, loss = 80997467963378.35937500\n",
      "Validation score: 0.649745\n",
      "Iteration 71, loss = 80708716587620.00000000\n",
      "Validation score: 0.650376\n",
      "Iteration 72, loss = 80727722579341.35937500\n",
      "Validation score: 0.648771\n",
      "Iteration 73, loss = 80728870721734.37500000\n",
      "Validation score: 0.650298\n",
      "Iteration 74, loss = 80508556123979.68750000\n",
      "Validation score: 0.649998\n",
      "Validation score did not improve more than tol=0.000100 for 10 consecutive epochs. Stopping.\n"
     ]
    }
   ],
   "source": [
    "from sklearn.neural_network import MLPRegressor\n",
    "\n",
    "mlp = MLPRegressor(hidden_layer_sizes=(150,100,50,50,50,25,5), max_iter=500, solver='adam', verbose=True, random_state=42,\n",
    "                   batch_size=512,early_stopping=True)\n",
    "mlp.fit(X, y)\n",
    "y_pred = mlp.predict(df_test)"
   ]
  },
  {
   "cell_type": "code",
   "execution_count": 180,
   "metadata": {},
   "outputs": [],
   "source": [
    "# from sklearn.neural_network import MLPRegressor\n",
    "\n",
    "# mlp = MLPRegressor(hidden_layer_sizes=(150,100,50,25,5), max_iter=200, solver='adam', verbose=True, random_state=42,\n",
    "#                    batch_size=1300,early_stopping=True)\n",
    "# mlp.fit(X, y)\n",
    "# y_pred = mlp.predict(df_test)"
   ]
  },
  {
   "cell_type": "code",
   "execution_count": 181,
   "metadata": {},
   "outputs": [],
   "source": [
    "# # get the number of input features in X and assign to n_features\n",
    "# n_features = X.shape[1]\n",
    "# # Create a Sequential model\n",
    "# model = Sequential()\n",
    "\n",
    "# # Add the first hidden layer with 10 neurons and specify the input shape\n",
    "# model.add(Dense(128, input_dim=n_features, activation='relu'))\n",
    "\n",
    "# # Add the second hidden layer with 5 neurons\n",
    "# model.add(Dense(100, activation='relu'))\n",
    "\n",
    "# # Add the third hidden layer with 3 neurons\n",
    "# model.add(Dense(64, activation='relu'))\n",
    "\n",
    "\n",
    "\n",
    "\n",
    "# model.add(Dense(1, activation='linear'))\n",
    "\n",
    "# # Compile the model\n",
    "# model.compile(optimizer=RMSprop(learning_rate=0.01), loss='mean_squared_error') #change optimizer\n",
    "\n",
    "# # Print the model summary\n",
    "# print(model.summary())\n"
   ]
  },
  {
   "cell_type": "code",
   "execution_count": 182,
   "metadata": {},
   "outputs": [],
   "source": [
    "# early_stopping = EarlyStopping(monitor='loss', patience=3, restore_best_weights=True)\n",
    "# model.fit(X, y, epochs=100, batch_size=2048, callbacks=[early_stopping])\n",
    "# y_pred = model.predict(df_test)"
   ]
  },
  {
   "cell_type": "code",
   "execution_count": 183,
   "metadata": {},
   "outputs": [
    {
     "name": "stdout",
     "output_type": "stream",
     "text": [
      "root_mean_squared_error:  12802184.025561977\n"
     ]
    }
   ],
   "source": [
    "test_pred = mlp.predict(X_test)\n",
    "print(\"root_mean_squared_error: \",mean_squared_error(y_test,test_pred,squared=False))"
   ]
  },
  {
   "cell_type": "code",
   "execution_count": 184,
   "metadata": {},
   "outputs": [],
   "source": [
    "filepath = 'neural_predict_1dec.csv'\n",
    "with open(filepath, mode='w', newline='') as file: \n",
    "    writer = csv.writer(file)\n",
    "    c=1\n",
    "    writer.writerow(['row ID', 'price_doc'])\n",
    "    for i in y_pred:\n",
    "        writer.writerow([c ,i])\n",
    "        c=c+1"
   ]
  }
 ],
 "metadata": {
  "kernelspec": {
   "display_name": "Python 3",
   "language": "python",
   "name": "python3"
  },
  "language_info": {
   "codemirror_mode": {
    "name": "ipython",
    "version": 3
   },
   "file_extension": ".py",
   "mimetype": "text/x-python",
   "name": "python",
   "nbconvert_exporter": "python",
   "pygments_lexer": "ipython3",
   "version": "3.11.5"
  }
 },
 "nbformat": 4,
 "nbformat_minor": 2
}
