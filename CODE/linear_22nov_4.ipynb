{
 "cells": [
  {
   "cell_type": "code",
   "execution_count": 1,
   "metadata": {},
   "outputs": [],
   "source": [
    "import pandas as pd\n",
    "from sklearn.linear_model import LinearRegression\n",
    "from sklearn.preprocessing import StandardScaler\n",
    "from sklearn.decomposition import IncrementalPCA\n",
    "import csv\n",
    "\n"
   ]
  },
  {
   "cell_type": "code",
   "execution_count": 2,
   "metadata": {},
   "outputs": [],
   "source": [
    "\n",
    "df = pd.read_csv('train.csv') \n",
    "\n",
    "\n",
    "object_columns = df.select_dtypes(include=['object']).columns\n",
    "\n",
    "# Use get_dummies for one-hot encoding\n",
    "df = pd.get_dummies(df, columns=object_columns, drop_first=True)\n",
    "\n",
    "X = df.drop('price_doc', axis=1)\n",
    "y = df['price_doc']"
   ]
  },
  {
   "cell_type": "code",
   "execution_count": 3,
   "metadata": {},
   "outputs": [],
   "source": [
    "\n",
    "df_test = pd.read_csv('test.csv')\n",
    "# Apply the same one-hot encoding to the test set\n",
    "df_test = pd.get_dummies(df_test, columns=object_columns, drop_first=True)\n",
    "\n",
    "\n",
    "# Make sure the columns in the test set match the columns in the training set\n",
    "df_test = df_test.reindex(columns=X.columns, fill_value=0)"
   ]
  },
  {
   "cell_type": "code",
   "execution_count": 4,
   "metadata": {},
   "outputs": [],
   "source": [
    "# Apply Incremental PCA\n",
    "n_components = 10  # Adjust the number of components as needed\n",
    "batch_size = 50  # Adjust the batch size as needed\n",
    "ipca = IncrementalPCA(n_components=n_components, batch_size=batch_size)\n",
    "X_pca = ipca.fit_transform(X)\n",
    "df_test_pca = ipca.transform(df_test)"
   ]
  },
  {
   "cell_type": "code",
   "execution_count": 5,
   "metadata": {},
   "outputs": [],
   "source": [
    "\n",
    "reg = LinearRegression().fit(X_pca, y)\n",
    "\n",
    "# Get the column names of the top 20 features based on PCA components\n",
    "top_20_columns = X.columns[ipca.components_.argsort(axis=1)[:, -20:][:, ::-1].ravel()]\n",
    "\n",
    "# Select the top 20 features for both the training and test sets\n",
    "X_top_20 = X[top_20_columns]\n",
    "df_test_top_20 = df_test[top_20_columns]\n"
   ]
  },
  {
   "cell_type": "code",
   "execution_count": 6,
   "metadata": {},
   "outputs": [],
   "source": [
    "# Train the model on the top 20 features\n",
    "reg_top_20 = LinearRegression().fit(X_top_20, y)\n",
    "y_pred_test_top_20 = reg_top_20.predict(df_test_top_20)\n",
    "\n",
    "filepath = 'prediction_top_20_features_pca.csv'\n",
    "with open(filepath, mode='w', newline='') as file:\n",
    "    writer = csv.writer(file)\n",
    "    writer.writerow(['row ID', 'price_doc'])  # Add column headers\n",
    "    for c, i in enumerate(y_pred_test_top_20, start=1):\n",
    "        writer.writerow([c, i])"
   ]
  }
 ],
 "metadata": {
  "kernelspec": {
   "display_name": "Python 3",
   "language": "python",
   "name": "python3"
  },
  "language_info": {
   "codemirror_mode": {
    "name": "ipython",
    "version": 3
   },
   "file_extension": ".py",
   "mimetype": "text/x-python",
   "name": "python",
   "nbconvert_exporter": "python",
   "pygments_lexer": "ipython3",
   "version": "3.12.0"
  }
 },
 "nbformat": 4,
 "nbformat_minor": 2
}
