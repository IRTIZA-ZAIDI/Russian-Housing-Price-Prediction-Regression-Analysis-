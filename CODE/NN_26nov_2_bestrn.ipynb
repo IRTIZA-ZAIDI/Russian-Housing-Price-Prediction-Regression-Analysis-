{
 "cells": [
  {
   "cell_type": "code",
   "execution_count": null,
   "metadata": {},
   "outputs": [],
   "source": [
    "import pandas as pd\n",
    "from sklearn.preprocessing import StandardScaler, MinMaxScaler\n",
    "from sklearn.decomposition import PCA\n",
    "from sklearn.feature_selection import VarianceThreshold, SelectKBest, f_regression\n",
    "from sklearn.preprocessing import PolynomialFeatures, LabelEncoder\n",
    "from sklearn.model_selection import train_test_split\n",
    "from sklearn.metrics import mean_squared_error\n",
    "from sklearn.neural_network import MLPRegressor\n",
    "import csv"
   ]
  },
  {
   "cell_type": "code",
   "execution_count": null,
   "metadata": {},
   "outputs": [
    {
     "name": "stderr",
     "output_type": "stream",
     "text": [
      "C:\\Users\\Irtiza\\AppData\\Local\\Temp\\ipykernel_16184\\3577474020.py:14: SettingWithCopyWarning: \n",
      "A value is trying to be set on a copy of a slice from a DataFrame.\n",
      "Try using .loc[row_indexer,col_indexer] = value instead\n",
      "\n",
      "See the caveats in the documentation: https://pandas.pydata.org/pandas-docs/stable/user_guide/indexing.html#returning-a-view-versus-a-copy\n",
      "  X[col] = label.fit_transform(X[col].astype(str))\n",
      "C:\\Users\\Irtiza\\AppData\\Local\\Temp\\ipykernel_16184\\3577474020.py:14: SettingWithCopyWarning: \n",
      "A value is trying to be set on a copy of a slice from a DataFrame.\n",
      "Try using .loc[row_indexer,col_indexer] = value instead\n",
      "\n",
      "See the caveats in the documentation: https://pandas.pydata.org/pandas-docs/stable/user_guide/indexing.html#returning-a-view-versus-a-copy\n",
      "  X[col] = label.fit_transform(X[col].astype(str))\n",
      "C:\\Users\\Irtiza\\AppData\\Local\\Temp\\ipykernel_16184\\3577474020.py:14: SettingWithCopyWarning: \n",
      "A value is trying to be set on a copy of a slice from a DataFrame.\n",
      "Try using .loc[row_indexer,col_indexer] = value instead\n",
      "\n",
      "See the caveats in the documentation: https://pandas.pydata.org/pandas-docs/stable/user_guide/indexing.html#returning-a-view-versus-a-copy\n",
      "  X[col] = label.fit_transform(X[col].astype(str))\n",
      "C:\\Users\\Irtiza\\AppData\\Local\\Temp\\ipykernel_16184\\3577474020.py:14: SettingWithCopyWarning: \n",
      "A value is trying to be set on a copy of a slice from a DataFrame.\n",
      "Try using .loc[row_indexer,col_indexer] = value instead\n",
      "\n",
      "See the caveats in the documentation: https://pandas.pydata.org/pandas-docs/stable/user_guide/indexing.html#returning-a-view-versus-a-copy\n",
      "  X[col] = label.fit_transform(X[col].astype(str))\n",
      "C:\\Users\\Irtiza\\AppData\\Local\\Temp\\ipykernel_16184\\3577474020.py:14: SettingWithCopyWarning: \n",
      "A value is trying to be set on a copy of a slice from a DataFrame.\n",
      "Try using .loc[row_indexer,col_indexer] = value instead\n",
      "\n",
      "See the caveats in the documentation: https://pandas.pydata.org/pandas-docs/stable/user_guide/indexing.html#returning-a-view-versus-a-copy\n",
      "  X[col] = label.fit_transform(X[col].astype(str))\n",
      "C:\\Users\\Irtiza\\AppData\\Local\\Temp\\ipykernel_16184\\3577474020.py:14: SettingWithCopyWarning: \n",
      "A value is trying to be set on a copy of a slice from a DataFrame.\n",
      "Try using .loc[row_indexer,col_indexer] = value instead\n",
      "\n",
      "See the caveats in the documentation: https://pandas.pydata.org/pandas-docs/stable/user_guide/indexing.html#returning-a-view-versus-a-copy\n",
      "  X[col] = label.fit_transform(X[col].astype(str))\n",
      "C:\\Users\\Irtiza\\AppData\\Local\\Temp\\ipykernel_16184\\3577474020.py:14: SettingWithCopyWarning: \n",
      "A value is trying to be set on a copy of a slice from a DataFrame.\n",
      "Try using .loc[row_indexer,col_indexer] = value instead\n",
      "\n",
      "See the caveats in the documentation: https://pandas.pydata.org/pandas-docs/stable/user_guide/indexing.html#returning-a-view-versus-a-copy\n",
      "  X[col] = label.fit_transform(X[col].astype(str))\n",
      "C:\\Users\\Irtiza\\AppData\\Local\\Temp\\ipykernel_16184\\3577474020.py:14: SettingWithCopyWarning: \n",
      "A value is trying to be set on a copy of a slice from a DataFrame.\n",
      "Try using .loc[row_indexer,col_indexer] = value instead\n",
      "\n",
      "See the caveats in the documentation: https://pandas.pydata.org/pandas-docs/stable/user_guide/indexing.html#returning-a-view-versus-a-copy\n",
      "  X[col] = label.fit_transform(X[col].astype(str))\n",
      "C:\\Users\\Irtiza\\AppData\\Local\\Temp\\ipykernel_16184\\3577474020.py:14: SettingWithCopyWarning: \n",
      "A value is trying to be set on a copy of a slice from a DataFrame.\n",
      "Try using .loc[row_indexer,col_indexer] = value instead\n",
      "\n",
      "See the caveats in the documentation: https://pandas.pydata.org/pandas-docs/stable/user_guide/indexing.html#returning-a-view-versus-a-copy\n",
      "  X[col] = label.fit_transform(X[col].astype(str))\n",
      "C:\\Users\\Irtiza\\AppData\\Local\\Temp\\ipykernel_16184\\3577474020.py:14: SettingWithCopyWarning: \n",
      "A value is trying to be set on a copy of a slice from a DataFrame.\n",
      "Try using .loc[row_indexer,col_indexer] = value instead\n",
      "\n",
      "See the caveats in the documentation: https://pandas.pydata.org/pandas-docs/stable/user_guide/indexing.html#returning-a-view-versus-a-copy\n",
      "  X[col] = label.fit_transform(X[col].astype(str))\n",
      "C:\\Users\\Irtiza\\AppData\\Local\\Temp\\ipykernel_16184\\3577474020.py:14: SettingWithCopyWarning: \n",
      "A value is trying to be set on a copy of a slice from a DataFrame.\n",
      "Try using .loc[row_indexer,col_indexer] = value instead\n",
      "\n",
      "See the caveats in the documentation: https://pandas.pydata.org/pandas-docs/stable/user_guide/indexing.html#returning-a-view-versus-a-copy\n",
      "  X[col] = label.fit_transform(X[col].astype(str))\n",
      "C:\\Users\\Irtiza\\AppData\\Local\\Temp\\ipykernel_16184\\3577474020.py:14: SettingWithCopyWarning: \n",
      "A value is trying to be set on a copy of a slice from a DataFrame.\n",
      "Try using .loc[row_indexer,col_indexer] = value instead\n",
      "\n",
      "See the caveats in the documentation: https://pandas.pydata.org/pandas-docs/stable/user_guide/indexing.html#returning-a-view-versus-a-copy\n",
      "  X[col] = label.fit_transform(X[col].astype(str))\n",
      "C:\\Users\\Irtiza\\AppData\\Local\\Temp\\ipykernel_16184\\3577474020.py:14: SettingWithCopyWarning: \n",
      "A value is trying to be set on a copy of a slice from a DataFrame.\n",
      "Try using .loc[row_indexer,col_indexer] = value instead\n",
      "\n",
      "See the caveats in the documentation: https://pandas.pydata.org/pandas-docs/stable/user_guide/indexing.html#returning-a-view-versus-a-copy\n",
      "  X[col] = label.fit_transform(X[col].astype(str))\n",
      "C:\\Users\\Irtiza\\AppData\\Local\\Temp\\ipykernel_16184\\3577474020.py:14: SettingWithCopyWarning: \n",
      "A value is trying to be set on a copy of a slice from a DataFrame.\n",
      "Try using .loc[row_indexer,col_indexer] = value instead\n",
      "\n",
      "See the caveats in the documentation: https://pandas.pydata.org/pandas-docs/stable/user_guide/indexing.html#returning-a-view-versus-a-copy\n",
      "  X[col] = label.fit_transform(X[col].astype(str))\n"
     ]
    }
   ],
   "source": [
    "# Load the training data\n",
    "df = pd.read_csv('train.csv')\n",
    "df.drop_duplicates(inplace=True)\n",
    "df = df.drop(columns=['sub_area'], axis=1)\n",
    "\n",
    "# Separate features (X) and target variable (y)\n",
    "X = df.loc[:, df.columns != 'price_doc']\n",
    "y = df[['price_doc']]\n",
    "\n",
    "# Encode categorical variables\n",
    "object_cols = X.select_dtypes(include=['object']).columns\n",
    "label = LabelEncoder()\n",
    "for col in object_cols:\n",
    "    X[col] = label.fit_transform(X[col].astype(str))\n"
   ]
  },
  {
   "cell_type": "code",
   "execution_count": null,
   "metadata": {},
   "outputs": [
    {
     "name": "stderr",
     "output_type": "stream",
     "text": [
      "c:\\Users\\Irtiza\\AppData\\Local\\Programs\\Python\\Python312\\Lib\\site-packages\\sklearn\\utils\\validation.py:1183: DataConversionWarning: A column-vector y was passed when a 1d array was expected. Please change the shape of y to (n_samples, ), for example using ravel().\n",
      "  y = column_or_1d(y, warn=True)\n"
     ]
    }
   ],
   "source": [
    "# Apply feature scaling\n",
    "scaler = MinMaxScaler()\n",
    "X = scaler.fit_transform(X)\n",
    "\n",
    "# Apply PCA\n",
    "PCA_s = PCA(n_components=10)\n",
    "X = PCA_s.fit_transform(X)\n",
    "\n",
    "# Apply variance threshold\n",
    "var = VarianceThreshold(threshold=0.01)\n",
    "X = var.fit_transform(X)\n",
    "\n",
    "# Feature selection\n",
    "skb = SelectKBest(f_regression, k=15)\n",
    "X = skb.fit_transform(X, y)\n"
   ]
  },
  {
   "cell_type": "code",
   "execution_count": null,
   "metadata": {},
   "outputs": [
    {
     "name": "stderr",
     "output_type": "stream",
     "text": [
      "c:\\Users\\Irtiza\\AppData\\Local\\Programs\\Python\\Python312\\Lib\\site-packages\\sklearn\\neural_network\\_multilayer_perceptron.py:691: ConvergenceWarning: Stochastic Optimizer: Maximum iterations (100) reached and the optimization hasn't converged yet.\n",
      "  warnings.warn(\n"
     ]
    }
   ],
   "source": [
    "# Polynomial features\n",
    "poly = PolynomialFeatures(3, include_bias=False)\n",
    "X = poly.fit_transform(X)\n",
    "\n",
    "# Split the data into training and testing sets\n",
    "X_train, X_test, y_train, y_test = train_test_split(X, y, test_size=0.2, random_state=42)\n",
    "\n",
    "# Build and train the MLPRegressor\n",
    "model = MLPRegressor(hidden_layer_sizes=(64, 32), activation='relu', solver='adam', max_iter=100)\n",
    "model.fit(X_train, y_train.values.ravel())\n",
    "\n",
    "# Make predictions on the test data\n",
    "y_pred_test = model.predict(X_test)"
   ]
  },
  {
   "cell_type": "code",
   "execution_count": null,
   "metadata": {},
   "outputs": [
    {
     "name": "stdout",
     "output_type": "stream",
     "text": [
      "Mean Squared Error on Test Data: 185823063843118.97\n"
     ]
    }
   ],
   "source": [
    "# Evaluate the model\n",
    "mse = mean_squared_error(y_test, y_pred_test)\n",
    "print(f'Mean Squared Error on Test Data: {mse}')\n",
    "\n",
    "# Load the test data\n",
    "df_test = pd.read_csv('test.csv')\n",
    "df_test = df_test.drop(['row ID'], axis=1)\n",
    "df_test = df_test.drop(['sub_area'], axis=1)"
   ]
  },
  {
   "cell_type": "code",
   "execution_count": null,
   "metadata": {},
   "outputs": [],
   "source": [
    "£ Mean Squared Error on Test Data: 185823063843118.97"
   ]
  },
  {
   "cell_type": "code",
   "execution_count": null,
   "metadata": {},
   "outputs": [],
   "source": [
    "# Encode categorical variables in the test data\n",
    "label_test = LabelEncoder()\n",
    "for col in object_cols:\n",
    "    df_test[col] = label_test.fit_transform(df_test[col].astype(str))\n",
    "\n",
    "# Apply feature scaling, PCA, variance threshold, feature selection, and polynomial features to the test data\n",
    "df_test = scaler.transform(df_test)\n",
    "df_test = PCA_s.transform(df_test)\n",
    "df_test = var.transform(df_test)\n",
    "df_test = skb.transform(df_test)\n",
    "df_test = poly.transform(df_test)\n",
    "\n",
    "# Make predictions on the test data using the trained model\n",
    "y_pred_test_final = model.predict(df_test)\n",
    "\n",
    "# Save predictions to a CSV file\n",
    "filepath = 'prediction_25nov_mlp.csv'\n",
    "with open(filepath, mode='w', newline='') as file:\n",
    "    writer = csv.writer(file)\n",
    "\n",
    "    # Add column headers\n",
    "    writer.writerow(['row ID', 'price_doc'])\n",
    "\n",
    "    # Writing predictions with corresponding index (starting from 1)\n",
    "    for c, prediction in enumerate(y_pred_test_final, start=1):\n",
    "        writer.writerow([c, prediction])"
   ]
  }
 ],
 "metadata": {
  "kernelspec": {
   "display_name": "Python 3",
   "language": "python",
   "name": "python3"
  },
  "language_info": {
   "codemirror_mode": {
    "name": "ipython",
    "version": 3
   },
   "file_extension": ".py",
   "mimetype": "text/x-python",
   "name": "python",
   "nbconvert_exporter": "python",
   "pygments_lexer": "ipython3",
   "version": "3.12.0"
  }
 },
 "nbformat": 4,
 "nbformat_minor": 2
}
